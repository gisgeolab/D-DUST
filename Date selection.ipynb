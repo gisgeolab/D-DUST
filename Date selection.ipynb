{
 "cells": [
  {
   "cell_type": "markdown",
   "id": "a1fc47bd-5651-406e-82e6-e0ed87b9b611",
   "metadata": {},
   "source": [
    "# Date Selection Notebook\n",
    "<center><img src=img/DDUST__Nero.png width=\"300\"></center>\n",
    "\n",
    "This notebook is used to plot the average `precipitation` and `temperature` over the Lombardy region for a given month of the year.\n",
    "\n",
    "Ideally, it would be necessary to have data on the periods of manure spreading and the cadastral parcels affected by these practices.\n",
    "Since these data are not available over the study area, it is necessary to identify criteria to choose the most likely periods when, on average, such practices are carried out. The choice of these periods was made precisely based on temperature, precipitations, and the main months in which fertilization in the Lombardy region takes place (e.g. March/April).\n",
    "\n",
    "The data used in this notebook come from [meteorological stations operated by ARPA Lombardy](https://www.dati.lombardia.it/Ambiente/stazioni-meteo/pevf-9zqp).\n",
    "In order to access to these data using the Socrata API, you must register to [Open Data Regione Lombardia](https://www.dati.lombardia.it/). The [sodapy](https://github.com/xmunoz/sodapy) library allows to request the data using this API.\n",
    "\n",
    "Read the `Ground Sensor Variables Request .ipynb` notebook to have more information about accessing ARPA meteorological data."
   ]
  },
  {
   "cell_type": "markdown",
   "id": "3d6195f4-15ef-401c-9610-9910756ecc5f",
   "metadata": {},
   "source": [
    "## Import libraries"
   ]
  },
  {
   "cell_type": "code",
   "execution_count": null,
   "id": "e51b2bc2-1c6c-4795-a4f6-10187fc2399c",
   "metadata": {},
   "outputs": [],
   "source": [
    "#Warnings\n",
    "import warnings\n",
    "warnings.filterwarnings('ignore')\n",
    "\n",
    "#Main libraries\n",
    "from sodapy import Socrata\n",
    "import pandas as pd\n",
    "import geopandas as gpd\n",
    "import os\n",
    "import zipfile\n",
    "import requests\n",
    "import json\n",
    "import io\n",
    "from scipy import stats\n",
    "import numpy as np\n",
    "from datetime import datetime\n",
    "from datetime import timedelta\n",
    "import matplotlib.pyplot as plt\n",
    "import plotly.graph_objects as go\n",
    "from plotly.subplots import make_subplots\n",
    "\n",
    "# Set current working directory\n",
    "cwd = os.getcwd()\n",
    "\n",
    "# Import functions defined for DDUST project:\n",
    "from functions import DDUST_methods\n",
    "\n",
    "# Key and app token for Socrata API\n",
    "f = open('keys.json')\n",
    "keys = json.load(f)"
   ]
  },
  {
   "cell_type": "markdown",
   "id": "cd8a1e19-0ca6-46aa-a1c2-13fb67453f5c",
   "metadata": {},
   "source": [
    "## Define time range\n",
    "First, is possible to select a `month` and a `year`. For example, for March 2021 just replace the `month` variable with `3`:"
   ]
  },
  {
   "cell_type": "code",
   "execution_count": null,
   "id": "71886cf7-a5ca-4843-85ef-e14f3fe08044",
   "metadata": {},
   "outputs": [],
   "source": [
    "month = 7  # e.g. 3 corresponds to March\n",
    "year = 2021\n",
    "start_date_dt = datetime(year, month, 1).date()\n",
    "print(start_date_dt)"
   ]
  },
  {
   "cell_type": "markdown",
   "id": "ee56db11-5670-40e8-972b-8f8668180d0c",
   "metadata": {},
   "source": [
    "Then we can set a function that gets the last day of the selected month:"
   ]
  },
  {
   "cell_type": "code",
   "execution_count": null,
   "id": "3f0e3f2c-077a-43fd-99c6-82e050a99de3",
   "metadata": {},
   "outputs": [],
   "source": [
    "# Function to get the last day of the month\n",
    "def last_day_month(test_date):            \n",
    "    # getting next month\n",
    "    # using replace to get to last day + offset\n",
    "    # to reach next month\n",
    "    nxt_mnth = test_date.replace(day=28) + timedelta(days=4)\n",
    "\n",
    "    # subtracting the days from next month date to\n",
    "    # get last date of current Month\n",
    "    res = nxt_mnth - timedelta(days=nxt_mnth.day)\n",
    "\n",
    "    return res"
   ]
  },
  {
   "cell_type": "markdown",
   "id": "09782b1e-a23c-468b-85eb-d321ac561b95",
   "metadata": {},
   "source": [
    "Now, we can visualize the start and the end days for the selected month:"
   ]
  },
  {
   "cell_type": "code",
   "execution_count": null,
   "id": "c240d3a2-88a8-4af9-b41f-29ec4c92543e",
   "metadata": {},
   "outputs": [],
   "source": [
    "# Start and end days of the month\n",
    "start_date = str(start_date_dt)\n",
    "end_date = str(last_day_month(start_date_dt))[0:10]\n",
    "end_date_dt = datetime.strptime(end_date, '%Y-%m-%d') + timedelta(days=1)\n",
    "print('The time range is '+start_date + ' / ' + end_date)"
   ]
  },
  {
   "cell_type": "markdown",
   "id": "25b0c79b-6f43-4f19-b3a0-f4565db19a03",
   "metadata": {},
   "source": [
    "If you want to define a time range for the current month and use them into the API you can uncomment the following code and put the right dates:"
   ]
  },
  {
   "cell_type": "code",
   "execution_count": null,
   "id": "4a5fdc26-0f21-437b-8fb1-f8c974efc29b",
   "metadata": {},
   "outputs": [],
   "source": [
    "# start_date='2022-08-01'\n",
    "# end_date_dt='2022-08-10'"
   ]
  },
  {
   "cell_type": "markdown",
   "id": "3eba4e24-e07b-4d7c-8b48-61d9cbde696c",
   "metadata": {},
   "source": [
    "## Get ARPA meteorological sensors information"
   ]
  },
  {
   "cell_type": "markdown",
   "id": "4704a80d-fce1-48a4-ac7d-6f68d1e8068c",
   "metadata": {},
   "source": [
    "Let's now connect to ARPA [Socrata API](https://dev.socrata.com/), which allows to require all the information associated to the meteorological stations (e.g. name, sensor type, station id, location etc.).\n",
    "\n",
    "<div class=\"alert alert-warning\" role=\"alert\">\n",
    "<span>&#9888;</span>\n",
    "<a id='warning'></a> Remember that is required to register to Open Data Regione Lombardia in order to get access to these data.\n",
    "</div>\n",
    "<div class=\"alert alert-warning\" role=\"alert\">\n",
    "<span>&#9888;</span>\n",
    "<a id='warning'></a> If you want to download data from API remember that only data from the current month are available. \n",
    "</div>"
   ]
  },
  {
   "cell_type": "code",
   "execution_count": null,
   "id": "d81ad60b-5f55-4982-9891-d0c91436edef",
   "metadata": {},
   "outputs": [],
   "source": [
    "arpa_domain = \"www.dati.lombardia.it\"\n",
    "m_st_descr = \"nf78-nj6b\"\n",
    "client = Socrata(arpa_domain, app_token = keys['arpa_token'])\n",
    "results = client.get_all(m_st_descr)\n",
    "meteo_st_descr = pd.DataFrame(results)\n",
    "meteo_st_descr[\"idsensore\"] = meteo_st_descr[\"idsensore\"].astype(int)"
   ]
  },
  {
   "cell_type": "markdown",
   "id": "1ce51ca4-3362-458c-91a4-b1ef78378294",
   "metadata": {},
   "source": [
    "## Get ARPA meteorological sensors times series"
   ]
  },
  {
   "cell_type": "markdown",
   "id": "d0f2ce6d-1c4e-4861-9dda-faa209ed02cc",
   "metadata": {},
   "source": [
    "It's now possible to effectively request the time series for each meteorological sensor.\n",
    "\n",
    "It's important to remember that is possible to request meteorological data directly from the API for the current month only, while if data from previous years are needed it is necessary to download the `.zip` folder containing the time series in `.csv` format.\n",
    "\n",
    "The following code will automatically request data from the Socrata API, by checking the year selected at the beginning of the notebook. The links for downloading the `.zip` folder for multiple years are available inside `DDUST_methods.py` within the `meteo_sensor` function.\n",
    "\n",
    "Moreover, if the `.zip` folder of the selected year is already available inside the current working directory, it won't be downloaded again."
   ]
  },
  {
   "cell_type": "code",
   "execution_count": null,
   "id": "4739254c-9b49-4899-9549-b55f588c08e8",
   "metadata": {},
   "outputs": [],
   "source": [
    "# If current year and month are selected use data from API (only current months data ara available from meteo sensors)\n",
    "if int(year) == datetime.today().year:\n",
    "    \n",
    "    # Set domain and token \n",
    "    arpa_domain = \"www.dati.lombardia.it\"\n",
    "    dati = \"647i-nhxk\" #change this depending on the dataset (check Open Data Lombardia datasets)\n",
    "    client = Socrata(arpa_domain, app_token = keys['arpa_token']) #insert your arpa_token\n",
    "    \n",
    "    # Query the data\n",
    "    date_query = \"data > {} and data < {}\".format('\"'+ start_date + '\"','\"'+ str(end_date_dt) + '\"') #query the data in the time range from the API\n",
    "    results = client.get(dati, where=date_query, limit=5000000000000) #GET request to the API\n",
    "    \n",
    "    # Create the dataframe\n",
    "    meteo_data = pd.DataFrame(results) #get the dataframe\n",
    "    meteo_data.rename(columns={'IdSensore': 'idsensore','Data': 'data','idOperatore': 'idoperatore','Stato': 'stato','Valore': 'valore'}, inplace=True) #rename some columns\n",
    "    meteo_data['data'] =  pd.to_datetime(meteo_data['data'], format='%Y/%m/%d %H:%M:%S')  #transform dates to datetime\n",
    "    meteo_data = meteo_data.astype({\"idsensore\": int,\"valore\": float})  #define types\n",
    "    \n",
    "# If previous years download the corresponding year .zip file, extract the .csv file and filter the dates\n",
    "elif int(year) < datetime.today().year: \n",
    "    filename = 'meteo_'+str(year)+'.zip'\n",
    "    \n",
    "    #if file does not exist then download it\n",
    "    if not os.path.exists(os.path.join(filename)):\n",
    "        csv_url = my_methods.meteo_sensor(str(year))\n",
    "        r2 = requests.get(csv_url, allow_redirects=True)\n",
    "        DL_zip = open(filename, 'wb').write(r2.content)\n",
    "        print('Dowloaded zip file')\n",
    "    \n",
    "    print('Zip file exist')  #if file exist\n",
    "    \n",
    "    # Open the zip file\n",
    "    archive = zipfile.ZipFile(filename, 'r')\n",
    "    data = archive.open(str(year)+'.csv') \n",
    "    \n",
    "    # Create dataframe\n",
    "    meteo_data_df = pd.read_csv(data, dtype={\"IdSensore\": int,\"Valore\": float, \"Stato\": str, \"idOperatore\":str})\n",
    "    meteo_data_df.rename(columns={'IdSensore': 'idsensore','Data': 'data','idOperatore': 'idoperatore','Stato': 'stato','Valore': 'valore'}, inplace=True)\n",
    "    meteo_data_df['data'] =  pd.to_datetime(meteo_data_df['data'], format='%d/%m/%Y %H:%M:%S')\n",
    "    \n",
    "    # Mask the meteo_data_df in the right time range\n",
    "    mask = (meteo_data_df.data >= start_date) & (meteo_data_df.data < str(end_date_dt))\n",
    "    meteo_data = meteo_data_df.loc[mask]"
   ]
  },
  {
   "cell_type": "markdown",
   "id": "89761fe3-29be-40c5-9bc0-5a7b2f0ade81",
   "metadata": {},
   "source": [
    "## Meteorological sensors data processing"
   ]
  },
  {
   "cell_type": "markdown",
   "id": "7fc5ced8-d3a5-4803-83c3-a5baf4f5cc68",
   "metadata": {},
   "source": [
    "Now, that the we have all the meteorological data inside the given time range, is possible to remove unused columns and NaN (with value -9999):"
   ]
  },
  {
   "cell_type": "code",
   "execution_count": null,
   "id": "c9f58963-7485-464a-9088-8d1bd416cadd",
   "metadata": {},
   "outputs": [],
   "source": [
    "meteo_data = meteo_data.drop(columns=['stato', 'idoperatore'])\n",
    "meteo_data = meteo_data[meteo_data.valore.astype(float) != -9999]"
   ]
  },
  {
   "cell_type": "markdown",
   "id": "ed7d14d0-5bcf-4130-9d25-d6e28ebc117a",
   "metadata": {},
   "source": [
    "Select the `Precipitazione` (precipitation) and `Temperatura` (temperature) columns and merge the sensor information with the time series:"
   ]
  },
  {
   "cell_type": "code",
   "execution_count": null,
   "id": "119a6575-55d2-4b71-9640-1f20efc62ea9",
   "metadata": {},
   "outputs": [],
   "source": [
    "m_sensor_sel = ['Precipitazione','Temperatura']  #select Temperature and Precipitation\n",
    "meteo_table = pd.merge(meteo_data, meteo_st_descr, on = 'idsensore')\n",
    "meteo_table['tipologia'].astype(str)\n",
    "meteo_table = meteo_table[meteo_table['tipologia'].isin(m_sensor_sel)]"
   ]
  },
  {
   "cell_type": "markdown",
   "id": "142db7f9-4b0d-4e9b-9b93-fdbaf4a7c69a",
   "metadata": {},
   "source": [
    "Extract temperature and precipitation in two separate dataframes:"
   ]
  },
  {
   "cell_type": "code",
   "execution_count": null,
   "id": "7393329d-4361-4fdf-a94b-942e7a4c7488",
   "metadata": {},
   "outputs": [],
   "source": [
    "temp_st = meteo_table.loc[meteo_table['tipologia'] == 'Temperatura']\n",
    "prec_st = meteo_table.loc[meteo_table['tipologia'] == 'Precipitazione']"
   ]
  },
  {
   "cell_type": "markdown",
   "id": "2727b30f-85d9-408d-9390-3d83db1abcd6",
   "metadata": {},
   "source": [
    "Now, we have the time series with alla the associated sensor information. \n",
    "\n",
    "It is also possible to remove outliers that can create issues to the selected data.\n",
    "\n",
    "For precipitations values with higher than 100 mm/h are removed. For temperature the Z-Score is calculated and the values above a given threshold (e.g. 4) are removed."
   ]
  },
  {
   "cell_type": "code",
   "execution_count": null,
   "id": "b09d0ebb-084e-4c51-822c-097306d058ef",
   "metadata": {},
   "outputs": [],
   "source": [
    "# Remove Outliers\n",
    "# For precipitation values less than 100 mm/h\n",
    "prec_st = prec_st[prec_st.valore < 100]\n",
    "\n",
    "# For temperature using a Z-Score with high threshold\n",
    "threshold = 4\n",
    "temp_st['zscore'] = np.abs(stats.zscore(temp_st['valore'], nan_policy='propagate'))\n",
    "temp_st = temp_st[temp_st.zscore < threshold]"
   ]
  },
  {
   "cell_type": "markdown",
   "id": "cdf76818-0d2a-441d-a778-9d26177b7b6c",
   "metadata": {},
   "source": [
    "Change the `data` variable type (i.e. the date) to `datetime` in order to obtain a time series:"
   ]
  },
  {
   "cell_type": "code",
   "execution_count": null,
   "id": "f65239f8-7625-4562-930b-f68f4fa4dc9e",
   "metadata": {},
   "outputs": [],
   "source": [
    "prec_st['data'] = pd.to_datetime(prec_st['data'], format='%Y-%m-%d hh:mm:ss')\n",
    "temp_st['data'] = pd.to_datetime(temp_st['data'], format='%Y-%m-%d hh:mm:ss')"
   ]
  },
  {
   "cell_type": "markdown",
   "id": "1fc8fbc7-534c-47c3-84e5-85c6e0a312e6",
   "metadata": {},
   "source": [
    "Calculate the mean `precipitation` and `temperature` for each day using the `group_by` function an setting a daily frequency on the date variable."
   ]
  },
  {
   "cell_type": "code",
   "execution_count": null,
   "id": "8da69bad-f941-49a8-a4b2-a7e621fefe56",
   "metadata": {},
   "outputs": [],
   "source": [
    "# Precipitation\n",
    "prec_mean = prec_st.groupby(pd.Grouper(freq='D', key='data')).mean()\n",
    "prec_mean = prec_mean.drop(columns=['idsensore'])\n",
    "prec_mean['data'] = prec_mean.index\n",
    "\n",
    "#Temperature\n",
    "temp_mean = temp_st.groupby(pd.Grouper(freq='D', key='data')).mean()\n",
    "temp_mean = temp_mean.drop(columns=['idsensore'])\n",
    "temp_mean['data'] = temp_mean.index"
   ]
  },
  {
   "cell_type": "markdown",
   "id": "ea93c92a-50f9-4cab-bba4-1b1d8238483b",
   "metadata": {},
   "source": [
    "## Plot mean temperature and precipitation for all ARPA sensor over Lombardy region"
   ]
  },
  {
   "cell_type": "code",
   "execution_count": null,
   "id": "9c22f05a-37de-446c-b6c8-3908f1220f1f",
   "metadata": {},
   "outputs": [],
   "source": [
    "fig = make_subplots(specs=[[{\"secondary_y\": True}]])\n",
    "\n",
    "# Add traces\n",
    "fig.add_trace(\n",
    "    go.Scatter(x=prec_mean.index, y=prec_mean.valore, name=\"Daily mean precipitation\"),\n",
    "    secondary_y=False)\n",
    "\n",
    "fig.add_trace(\n",
    "    go.Scatter(x=temp_mean.index, y=temp_mean.valore, name=\"Daily mean temperature\"),\n",
    "    secondary_y=True)\n",
    "\n",
    "# Add figure title\n",
    "fig.update_layout(\n",
    "    title_text=\"Daily mean temperature and precipitation from ARPA ground sensors - 1 Month time range - \" +str(start_date_dt.strftime(\"%B %Y\")))\n",
    "\n",
    "# Set x-axis title\n",
    "fig.update_xaxes(title_text=\"Date\")\n",
    "\n",
    "# Set y-axes titles\n",
    "fig.update_yaxes(title_text=\"<b>Mean precipitation (mm/h)</b>\", secondary_y=False)\n",
    "fig.update_yaxes(title_text=\"<b>Mean temperature (°C)</b>\", secondary_y=True)\n",
    "\n",
    "fig.show()"
   ]
  }
 ],
 "metadata": {
  "kernelspec": {
   "display_name": "Python 3 (ipykernel)",
   "language": "python",
   "name": "python3"
  },
  "language_info": {
   "codemirror_mode": {
    "name": "ipython",
    "version": 3
   },
   "file_extension": ".py",
   "mimetype": "text/x-python",
   "name": "python",
   "nbconvert_exporter": "python",
   "pygments_lexer": "ipython3",
   "version": "3.10.6"
  }
 },
 "nbformat": 4,
 "nbformat_minor": 5
}
