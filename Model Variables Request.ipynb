{
 "cells": [
  {
   "cell_type": "markdown",
   "id": "f8470b6c",
   "metadata": {
    "tags": []
   },
   "source": [
    "# API Request notebook for climate and air quality data from Copernicus Atmosphere Monitoring Service (CAMS) and Copernicus Climate Change Service (C3S)\n",
    "<br>\n",
    "<center><img src=img/DDUST__Nero.png width=\"300\"></center>\n"
   ]
  },
  {
   "cell_type": "markdown",
   "id": "1b7a1317",
   "metadata": {},
   "source": [
    "This notebook is used to download data derived from meteorological and air quality models. It is divided into 2 parts:\n",
    "- The first part requests data using the `CDS API` Python library. It's used to download data concerning air quality variables from Copernicus Atmosphere Monitoring Service (CAMS) models.\n",
    "- The second part requests data using the `Google Earth Engine` Python API library. It's used to download data concerning meteorological variables obtained from the Copernicus Climate Change Service ERA5-land hourly Reanalysis model."
   ]
  },
  {
   "cell_type": "markdown",
   "id": "e5d2ac54",
   "metadata": {},
   "source": [
    "### Link to Copernicus Services:\n",
    "- Link to [ADS Atmosphere Copernicus (CAMS)](https://ads.atmosphere.copernicus.eu/cdsapp#!/dataset/cams-europe-air-quality-forecasts?tab=overview)\n",
    "- Link to [CDS Climate Copernicus (C3S)](https://cds.climate.copernicus.eu/cdsapp#!/dataset/reanalysis-era5-land?tab=overview)"
   ]
  },
  {
   "cell_type": "markdown",
   "id": "083a73fd",
   "metadata": {},
   "source": [
    "### How to access the CDS API:\n",
    "It's possible to change `key` and `value` pairs provided from the website in the `.cdsapirc` file as explained in the following link: https://ads.atmosphere.copernicus.eu/api-how-to \n",
    "\n",
    "Alternatively, `key` and `value` can be used as input directly inside the `cdsapi` API request if the notebook is not shared and it's run locally.\n",
    "\n",
    "Also, in order to run this notebook, it is required to add your CDSAPI token inside the `keys.json` file provided inside the repository."
   ]
  },
  {
   "cell_type": "markdown",
   "id": "3049c512",
   "metadata": {},
   "source": [
    "### Reference material:<br> \n",
    "- GitHub Repository containing examples from ECMWF: https://github.com/ecmwf-projects/copernicus-training\n",
    "- Example: https://github.com/ecmwf-projects/copernicus-training/blob/master/2021-02-Copernicus-ECMWF-data-tutorial.ipynb"
   ]
  },
  {
   "cell_type": "markdown",
   "id": "d95bf0f7",
   "metadata": {},
   "source": [
    "### Import libraries and API authentication"
   ]
  },
  {
   "cell_type": "code",
   "execution_count": null,
   "id": "f7aed58a",
   "metadata": {},
   "outputs": [],
   "source": [
    "import warnings\n",
    "warnings.filterwarnings('ignore')\n",
    "\n",
    "import cdsapi\n",
    "import os\n",
    "import geopandas as gpd\n",
    "import xarray as xr\n",
    "import json\n",
    "import ipywidgets as widgets\n",
    "import ee\n",
    "import geemap\n",
    "import datetime\n",
    "\n",
    "\n",
    "# Current working directory path:\n",
    "cwd = os.getcwd()\n",
    "\n",
    "# Import functions defined for DDUST project:\n",
    "from functions import DDUST_methods"
   ]
  },
  {
   "cell_type": "code",
   "execution_count": null,
   "id": "698c5c54",
   "metadata": {},
   "outputs": [],
   "source": [
    "# Google Earth Engine authentication (a Google account is required):\n",
    "ee.Authenticate()"
   ]
  },
  {
   "cell_type": "code",
   "execution_count": null,
   "id": "5c2777ff",
   "metadata": {},
   "outputs": [],
   "source": [
    "# Initialize Google Earth Engine API:\n",
    "ee.Initialize()"
   ]
  },
  {
   "cell_type": "code",
   "execution_count": null,
   "id": "e3a18833",
   "metadata": {},
   "outputs": [],
   "source": [
    "# CDSAPI: Importing key/value from .json file for API authentication:\n",
    "f = open('keys.json')\n",
    "keys = json.load(f)\n",
    "c_atm = cdsapi.Client(keys[\"ATM_ID\"], keys[\"ATM_KEY\"])"
   ]
  },
  {
   "cell_type": "markdown",
   "id": "bcc4e8e1",
   "metadata": {},
   "source": [
    "### Set starting and end date for data request:"
   ]
  },
  {
   "cell_type": "markdown",
   "id": "f00feba5",
   "metadata": {},
   "source": [
    "The date selection is done through the `date.json` file that contains the date range for requesting the data. The `date.json` file is the same for all the project's notebooks:"
   ]
  },
  {
   "cell_type": "code",
   "execution_count": null,
   "id": "6f0158ed",
   "metadata": {},
   "outputs": [],
   "source": [
    "d = open('date.json') #Open .json file where manuring weeks and year are saved\n",
    "date = json.load(d)\n",
    "year = date['year']\n",
    "custom_week = date['custom_week']"
   ]
  },
  {
   "cell_type": "code",
   "execution_count": null,
   "id": "91ff3195",
   "metadata": {},
   "outputs": [],
   "source": [
    "# Select start and end date of the corresponding selected week:\n",
    "start_date = str(datetime.datetime.strptime((str(year)+'-'+custom_week[0]), \"%Y-%m-%d\").date())\n",
    "end_date = str(datetime.datetime.strptime((str(year)+'-'+custom_week[1]), \"%Y-%m-%d\").date())\n",
    "print(\"The starting date is\", start_date,\"and the ending date is\" , end_date,\". The date is define as yyyy-mm-dd.\")"
   ]
  },
  {
   "cell_type": "markdown",
   "id": "bda5e0b0",
   "metadata": {},
   "source": [
    "### Import Bounding Box"
   ]
  },
  {
   "cell_type": "code",
   "execution_count": null,
   "id": "15ba4116",
   "metadata": {},
   "outputs": [],
   "source": [
    "area_path = cwd + '/grid/grid_0_1.gpkg'\n",
    "area = gpd.read_file(area_path).to_crs(4326)\n",
    "bounds = area.total_bounds\n",
    "roi = ee.Geometry.BBox(bounds[0],bounds[1],bounds[2],bounds[3])"
   ]
  },
  {
   "cell_type": "markdown",
   "id": "a64bd903-745f-4b30-ad24-66f69c2e836d",
   "metadata": {},
   "source": [
    "Define the scale for the ERA5 data download:"
   ]
  },
  {
   "cell_type": "code",
   "execution_count": null,
   "id": "7ca4ed36-4a16-4b76-a115-11b1e64471f1",
   "metadata": {},
   "outputs": [],
   "source": [
    "era5_scale = 1000"
   ]
  },
  {
   "cell_type": "markdown",
   "id": "c98300b4",
   "metadata": {},
   "source": [
    "- - -"
   ]
  },
  {
   "cell_type": "markdown",
   "id": "4b237c28",
   "metadata": {},
   "source": [
    "# CDAPI Data Requests for Copernicus Atmosphere Monitoring Service (CAMS)"
   ]
  },
  {
   "cell_type": "markdown",
   "id": "f7050f7a",
   "metadata": {},
   "source": [
    "This part contains the requests for the following variables:\n",
    "- Particulate matter (PM10, PM2.5)\n",
    "- Ammonia (NH3)\n",
    "- Sulphur Dioxide (SO2)\n",
    "- Nitrogen Dioxide (NO2)\n",
    "- Nitrogen Monoxide (NO)\n",
    "- Carbon Monoxide (CO)\n",
    "- Ozone (O3)\n",
    "- Dust\n",
    "- NMVOCs (Non-Methane Volatile Organic Compounds)\n",
    "\n",
    "Each section just requires hourly data in the time range (start & end date) for each variable. The data are required in the bounding box only, and a mean value it's calculated. The output format is a netCDF file."
   ]
  },
  {
   "cell_type": "markdown",
   "id": "b9a94b82",
   "metadata": {},
   "source": [
    "# [PM2.5 - Particulate Matter](https://ads.atmosphere.copernicus.eu/cdsapp#!/dataset/cams-europe-air-quality-forecasts?tab=overview) "
   ]
  },
  {
   "cell_type": "code",
   "execution_count": null,
   "id": "b39fdf32",
   "metadata": {},
   "outputs": [],
   "source": [
    "pm25_path = cwd+r'\\temp\\pm25_cams.nc'\n",
    "pm25 = c_atm.retrieve(\n",
    "    'cams-europe-air-quality-forecasts',\n",
    "    {\n",
    "        'variable': 'particulate_matter_2.5um',\n",
    "        'model': 'ensemble',\n",
    "        'level': '0',\n",
    "        'date': start_date+'/'+end_date,\n",
    "        'type': 'analysis',\n",
    "        'time': [\n",
    "            '00:00', '01:00', '02:00',\n",
    "            '03:00', '04:00', '05:00',\n",
    "            '06:00', '07:00', '08:00',\n",
    "            '09:00', '10:00', '11:00',\n",
    "            '12:00', '13:00', '14:00',\n",
    "            '15:00', '16:00', '17:00',\n",
    "            '18:00', '19:00', '20:00',\n",
    "            '21:00', '22:00', '23:00',\n",
    "        ],\n",
    "        'leadtime_hour': '0',\n",
    "        'area': [\n",
    "            bounds[3], bounds[0], bounds[1],\n",
    "            bounds[2],\n",
    "        ],\n",
    "        'format': 'netcdf',\n",
    "    },\n",
    "    pm25_path\n",
    "    )"
   ]
  },
  {
   "cell_type": "code",
   "execution_count": null,
   "id": "18229d79",
   "metadata": {},
   "outputs": [],
   "source": [
    "pm25 = xr.open_dataset(pm25_path)"
   ]
  },
  {
   "cell_type": "code",
   "execution_count": null,
   "id": "643d4da3",
   "metadata": {},
   "outputs": [],
   "source": [
    "pm25_mean = pm25.mean(dim='time')"
   ]
  },
  {
   "cell_type": "code",
   "execution_count": null,
   "id": "cd886a47",
   "metadata": {},
   "outputs": [],
   "source": [
    "pm25_mean.to_netcdf(pm25_path)"
   ]
  },
  {
   "cell_type": "markdown",
   "id": "83230de8",
   "metadata": {},
   "source": [
    "- - -"
   ]
  },
  {
   "cell_type": "markdown",
   "id": "dbd13a70",
   "metadata": {},
   "source": [
    "# [NH3 - Ammonia](https://ads.atmosphere.copernicus.eu/cdsapp#!/dataset/cams-europe-air-quality-forecasts?tab=overview) "
   ]
  },
  {
   "cell_type": "code",
   "execution_count": null,
   "id": "ec724708",
   "metadata": {},
   "outputs": [],
   "source": [
    "nh3_path = cwd+r'\\temp\\nh3_cams.nc'\n",
    "nh3 = c_atm.retrieve(\n",
    "    'cams-europe-air-quality-forecasts',\n",
    "    {\n",
    "        'variable': 'ammonia',\n",
    "        'model': 'ensemble',\n",
    "        'level': '0',\n",
    "        'date': start_date+'/'+end_date,\n",
    "        'type': 'analysis',\n",
    "        'time': [\n",
    "            '00:00', '01:00', '02:00',\n",
    "            '03:00', '04:00', '05:00',\n",
    "            '06:00', '07:00', '08:00',\n",
    "            '09:00', '10:00', '11:00',\n",
    "            '12:00', '13:00', '14:00',\n",
    "            '15:00', '16:00', '17:00',\n",
    "            '18:00', '19:00', '20:00',\n",
    "            '21:00', '22:00', '23:00',\n",
    "        ],\n",
    "        'leadtime_hour': '0',\n",
    "        'area': [\n",
    "            bounds[3], bounds[0], bounds[1],\n",
    "            bounds[2],\n",
    "        ],\n",
    "        'format': 'netcdf',\n",
    "    },\n",
    "    nh3_path\n",
    "    )"
   ]
  },
  {
   "cell_type": "code",
   "execution_count": null,
   "id": "18c87c61",
   "metadata": {},
   "outputs": [],
   "source": [
    "nh3 = xr.open_dataset(nh3_path)"
   ]
  },
  {
   "cell_type": "code",
   "execution_count": null,
   "id": "f8a26e46",
   "metadata": {},
   "outputs": [],
   "source": [
    "nh3_mean = nh3.mean(dim='time')"
   ]
  },
  {
   "cell_type": "code",
   "execution_count": null,
   "id": "1e88261c",
   "metadata": {},
   "outputs": [],
   "source": [
    "nh3_mean.to_netcdf(nh3_path)"
   ]
  },
  {
   "cell_type": "markdown",
   "id": "1e71fa57",
   "metadata": {},
   "source": [
    "- - -"
   ]
  },
  {
   "cell_type": "markdown",
   "id": "384c9752",
   "metadata": {},
   "source": [
    "# [SO2 - Sulphur Dioxide](https://ads.atmosphere.copernicus.eu/cdsapp#!/dataset/cams-europe-air-quality-forecasts?tab=overview) "
   ]
  },
  {
   "cell_type": "code",
   "execution_count": null,
   "id": "3d783cd7",
   "metadata": {},
   "outputs": [],
   "source": [
    "so2_path = cwd + r'/temp/so2_cams.nc'\n",
    "so2 = c_atm.retrieve(\n",
    "    'cams-europe-air-quality-forecasts',\n",
    "    {\n",
    "        'variable': 'sulphur_dioxide',\n",
    "        'model': 'ensemble',\n",
    "        'level': '0',\n",
    "        'date': start_date+'/'+end_date,\n",
    "        'type': 'analysis',\n",
    "        'time': [\n",
    "            '00:00', '01:00', '02:00',\n",
    "            '03:00', '04:00', '05:00',\n",
    "            '06:00', '07:00', '08:00',\n",
    "            '09:00', '10:00', '11:00',\n",
    "            '12:00', '13:00', '14:00',\n",
    "            '15:00', '16:00', '17:00',\n",
    "            '18:00', '19:00', '20:00',\n",
    "            '21:00', '22:00', '23:00',\n",
    "        ],\n",
    "        'leadtime_hour': '0',\n",
    "        'area': [\n",
    "            bounds[3], bounds[0], bounds[1],\n",
    "            bounds[2],\n",
    "        ],\n",
    "        'format': 'netcdf',\n",
    "    },\n",
    "    so2_path\n",
    "    )"
   ]
  },
  {
   "cell_type": "code",
   "execution_count": null,
   "id": "2dc9530d",
   "metadata": {},
   "outputs": [],
   "source": [
    "so2 = xr.open_dataset(so2_path)"
   ]
  },
  {
   "cell_type": "code",
   "execution_count": null,
   "id": "e043e188",
   "metadata": {},
   "outputs": [],
   "source": [
    "so2_mean = so2.mean(dim='time')"
   ]
  },
  {
   "cell_type": "code",
   "execution_count": null,
   "id": "7cb4a0a0",
   "metadata": {},
   "outputs": [],
   "source": [
    "so2_mean.to_netcdf(so2_path)"
   ]
  },
  {
   "cell_type": "markdown",
   "id": "70f2f8b2",
   "metadata": {},
   "source": [
    "- - -"
   ]
  },
  {
   "cell_type": "markdown",
   "id": "c0a3d022",
   "metadata": {},
   "source": [
    "# [NO2 - Nitrogen Dioxide](https://ads.atmosphere.copernicus.eu/cdsapp#!/dataset/cams-europe-air-quality-forecasts?tab=overview) "
   ]
  },
  {
   "cell_type": "code",
   "execution_count": null,
   "id": "8f3d4d3b",
   "metadata": {},
   "outputs": [],
   "source": [
    "no2_path = cwd + r'/temp/no2_cams.nc'\n",
    "no2 = c_atm.retrieve(\n",
    "    'cams-europe-air-quality-forecasts',\n",
    "    {\n",
    "        'variable': 'nitrogen_dioxide',\n",
    "        'model': 'ensemble',\n",
    "        'level': '0',\n",
    "        'date': start_date+'/'+end_date,\n",
    "        'type': 'analysis',\n",
    "        'time': [\n",
    "            '00:00', '01:00', '02:00',\n",
    "            '03:00', '04:00', '05:00',\n",
    "            '06:00', '07:00', '08:00',\n",
    "            '09:00', '10:00', '11:00',\n",
    "            '12:00', '13:00', '14:00',\n",
    "            '15:00', '16:00', '17:00',\n",
    "            '18:00', '19:00', '20:00',\n",
    "            '21:00', '22:00', '23:00',\n",
    "        ],\n",
    "        'leadtime_hour': '0',\n",
    "        'area': [\n",
    "            bounds[3], bounds[0], bounds[1],\n",
    "            bounds[2],\n",
    "        ],\n",
    "        'format': 'netcdf',\n",
    "    },\n",
    "    no2_path\n",
    "    )"
   ]
  },
  {
   "cell_type": "code",
   "execution_count": null,
   "id": "acc56fcd",
   "metadata": {},
   "outputs": [],
   "source": [
    "no2 = xr.open_dataset(no2_path)"
   ]
  },
  {
   "cell_type": "code",
   "execution_count": null,
   "id": "1a531f79",
   "metadata": {},
   "outputs": [],
   "source": [
    "no2_mean = no2.mean(dim='time')"
   ]
  },
  {
   "cell_type": "code",
   "execution_count": null,
   "id": "a3c72e80",
   "metadata": {},
   "outputs": [],
   "source": [
    "no2_mean.to_netcdf(no2_path)"
   ]
  },
  {
   "cell_type": "markdown",
   "id": "73484d5c",
   "metadata": {},
   "source": [
    "- - -"
   ]
  },
  {
   "cell_type": "markdown",
   "id": "51fba870",
   "metadata": {},
   "source": [
    "# [NO - Nitrogen Monoxide](https://ads.atmosphere.copernicus.eu/cdsapp#!/dataset/cams-europe-air-quality-forecasts?tab=overview)"
   ]
  },
  {
   "cell_type": "code",
   "execution_count": null,
   "id": "8bc8305f",
   "metadata": {},
   "outputs": [],
   "source": [
    "no_path = cwd + r'/temp/no_cams.nc'\n",
    "no = c_atm.retrieve(\n",
    "    'cams-europe-air-quality-forecasts',\n",
    "    {\n",
    "        'variable': 'nitrogen_monoxide',\n",
    "        'model': 'ensemble',\n",
    "        'level': '0',\n",
    "        'date': start_date+'/'+end_date,\n",
    "        'type': 'analysis',\n",
    "        'time': [\n",
    "            '00:00', '01:00', '02:00',\n",
    "            '03:00', '04:00', '05:00',\n",
    "            '06:00', '07:00', '08:00',\n",
    "            '09:00', '10:00', '11:00',\n",
    "            '12:00', '13:00', '14:00',\n",
    "            '15:00', '16:00', '17:00',\n",
    "            '18:00', '19:00', '20:00',\n",
    "            '21:00', '22:00', '23:00',\n",
    "        ],\n",
    "        'leadtime_hour': '0',\n",
    "        'area': [\n",
    "            bounds[3], bounds[0], bounds[1],\n",
    "            bounds[2],\n",
    "        ],\n",
    "        'format': 'netcdf',\n",
    "    },\n",
    "    no_path\n",
    "    )"
   ]
  },
  {
   "cell_type": "code",
   "execution_count": null,
   "id": "bbe636f1",
   "metadata": {},
   "outputs": [],
   "source": [
    "no = xr.open_dataset(no_path)"
   ]
  },
  {
   "cell_type": "code",
   "execution_count": null,
   "id": "b88fa2e1",
   "metadata": {},
   "outputs": [],
   "source": [
    "no_mean = no.mean(dim='time')"
   ]
  },
  {
   "cell_type": "code",
   "execution_count": null,
   "id": "566176d1",
   "metadata": {},
   "outputs": [],
   "source": [
    "no_mean.to_netcdf(no_path)"
   ]
  },
  {
   "cell_type": "markdown",
   "id": "03250b75",
   "metadata": {},
   "source": [
    "- - -"
   ]
  },
  {
   "cell_type": "markdown",
   "id": "d95aa5ab",
   "metadata": {},
   "source": [
    "# [CO - Carbon Monoxide](https://ads.atmosphere.copernicus.eu/cdsapp#!/dataset/cams-europe-air-quality-forecasts?tab=overview)"
   ]
  },
  {
   "cell_type": "code",
   "execution_count": null,
   "id": "94dbfb83",
   "metadata": {},
   "outputs": [],
   "source": [
    "co_path = cwd + r'/temp/co_cams.nc'\n",
    "co = c_atm.retrieve(\n",
    "    'cams-europe-air-quality-forecasts',\n",
    "    {\n",
    "        'variable': 'carbon_monoxide',\n",
    "        'model': 'ensemble',\n",
    "        'level': '0',\n",
    "        'date': start_date+'/'+end_date,\n",
    "        'type': 'analysis',\n",
    "        'time': [\n",
    "            '00:00', '01:00', '02:00',\n",
    "            '03:00', '04:00', '05:00',\n",
    "            '06:00', '07:00', '08:00',\n",
    "            '09:00', '10:00', '11:00',\n",
    "            '12:00', '13:00', '14:00',\n",
    "            '15:00', '16:00', '17:00',\n",
    "            '18:00', '19:00', '20:00',\n",
    "            '21:00', '22:00', '23:00',\n",
    "        ],\n",
    "        'leadtime_hour': '0',\n",
    "        'area': [\n",
    "            bounds[3], bounds[0], bounds[1],\n",
    "            bounds[2],\n",
    "        ],\n",
    "        'format': 'netcdf',\n",
    "    },\n",
    "    co_path\n",
    "    )"
   ]
  },
  {
   "cell_type": "code",
   "execution_count": null,
   "id": "6898d246",
   "metadata": {},
   "outputs": [],
   "source": [
    "co = xr.open_dataset(co_path)"
   ]
  },
  {
   "cell_type": "code",
   "execution_count": null,
   "id": "745ad796",
   "metadata": {},
   "outputs": [],
   "source": [
    "co_mean = co.mean(dim='time')"
   ]
  },
  {
   "cell_type": "code",
   "execution_count": null,
   "id": "acaea161",
   "metadata": {},
   "outputs": [],
   "source": [
    "co_mean.to_netcdf(co_path)"
   ]
  },
  {
   "cell_type": "markdown",
   "id": "adddfe3f",
   "metadata": {},
   "source": [
    "---"
   ]
  },
  {
   "cell_type": "markdown",
   "id": "6f665a3f",
   "metadata": {},
   "source": [
    "# [O3 - Ozone](https://ads.atmosphere.copernicus.eu/cdsapp#!/dataset/cams-europe-air-quality-forecasts?tab=overview)"
   ]
  },
  {
   "cell_type": "code",
   "execution_count": null,
   "id": "21230b1e",
   "metadata": {},
   "outputs": [],
   "source": [
    "o3_path = cwd + r'/temp/o3_cams.nc'\n",
    "o3 = c_atm.retrieve(\n",
    "    'cams-europe-air-quality-forecasts',\n",
    "    {\n",
    "        'variable': 'ozone',\n",
    "        'model': 'ensemble',\n",
    "        'level': '0',\n",
    "        'date': start_date+'/'+end_date,\n",
    "        'type': 'analysis',\n",
    "        'time': [\n",
    "            '00:00', '01:00', '02:00',\n",
    "            '03:00', '04:00', '05:00',\n",
    "            '06:00', '07:00', '08:00',\n",
    "            '09:00', '10:00', '11:00',\n",
    "            '12:00', '13:00', '14:00',\n",
    "            '15:00', '16:00', '17:00',\n",
    "            '18:00', '19:00', '20:00',\n",
    "            '21:00', '22:00', '23:00',\n",
    "        ],\n",
    "        'leadtime_hour': '0',\n",
    "        'area': [\n",
    "            bounds[3], bounds[0], bounds[1],\n",
    "            bounds[2],\n",
    "        ],\n",
    "        'format': 'netcdf',\n",
    "    },\n",
    "    o3_path\n",
    "    )"
   ]
  },
  {
   "cell_type": "code",
   "execution_count": null,
   "id": "ddf9a537",
   "metadata": {},
   "outputs": [],
   "source": [
    "o3 = xr.open_dataset(o3_path)"
   ]
  },
  {
   "cell_type": "code",
   "execution_count": null,
   "id": "255d6bc3",
   "metadata": {},
   "outputs": [],
   "source": [
    "o3_mean = o3.mean(dim='time')"
   ]
  },
  {
   "cell_type": "code",
   "execution_count": null,
   "id": "696964e3",
   "metadata": {},
   "outputs": [],
   "source": [
    "o3_mean.to_netcdf(o3_path)"
   ]
  },
  {
   "cell_type": "markdown",
   "id": "7484d19f",
   "metadata": {},
   "source": [
    "---"
   ]
  },
  {
   "cell_type": "markdown",
   "id": "d0f0e461",
   "metadata": {
    "tags": []
   },
   "source": [
    "# [Dust](https://ads.atmosphere.copernicus.eu/cdsapp#!/dataset/cams-europe-air-quality-forecasts?tab=overview)"
   ]
  },
  {
   "cell_type": "code",
   "execution_count": null,
   "id": "27ee3eba",
   "metadata": {},
   "outputs": [],
   "source": [
    "dust_path = cwd + r'/temp/dust_cams.nc'\n",
    "dust = c_atm.retrieve(\n",
    "    'cams-europe-air-quality-forecasts',\n",
    "    {\n",
    "        'variable': 'dust',\n",
    "        'model': 'ensemble',\n",
    "        'level': '0',\n",
    "        'date': start_date+'/'+end_date,\n",
    "        'type': 'analysis',\n",
    "        'time': [\n",
    "            '00:00', '01:00', '02:00',\n",
    "            '03:00', '04:00', '05:00',\n",
    "            '06:00', '07:00', '08:00',\n",
    "            '09:00', '10:00', '11:00',\n",
    "            '12:00', '13:00', '14:00',\n",
    "            '15:00', '16:00', '17:00',\n",
    "            '18:00', '19:00', '20:00',\n",
    "            '21:00', '22:00', '23:00',\n",
    "        ],\n",
    "        'leadtime_hour': '0',\n",
    "        'area': [\n",
    "            bounds[3], bounds[0], bounds[1],\n",
    "            bounds[2],\n",
    "        ],\n",
    "        'format': 'netcdf',\n",
    "    },\n",
    "    dust_path\n",
    "    )"
   ]
  },
  {
   "cell_type": "code",
   "execution_count": null,
   "id": "90b85837",
   "metadata": {},
   "outputs": [],
   "source": [
    "dust = xr.open_dataset(dust_path)"
   ]
  },
  {
   "cell_type": "code",
   "execution_count": null,
   "id": "8ffab273",
   "metadata": {},
   "outputs": [],
   "source": [
    "dust_mean = dust.mean(dim='time')"
   ]
  },
  {
   "cell_type": "code",
   "execution_count": null,
   "id": "e95419fe",
   "metadata": {},
   "outputs": [],
   "source": [
    "dust_mean.to_netcdf(dust_path)"
   ]
  },
  {
   "cell_type": "markdown",
   "id": "4aa46b02",
   "metadata": {},
   "source": [
    "# [PM10 - Particulate Matter](https://ads.atmosphere.copernicus.eu/cdsapp#!/dataset/cams-europe-air-quality-forecasts?tab=overview)"
   ]
  },
  {
   "cell_type": "code",
   "execution_count": null,
   "id": "cc5202e0",
   "metadata": {
    "scrolled": true
   },
   "outputs": [],
   "source": [
    "pm10_path = cwd + r'/temp/pm10_cams.nc'\n",
    "pm10 = c_atm.retrieve(\n",
    "    'cams-europe-air-quality-forecasts',\n",
    "    {\n",
    "        'model': 'ensemble',\n",
    "        'date': start_date+'/'+end_date,\n",
    "        'format': 'netcdf',\n",
    "        'level': '0',\n",
    "        'type': 'analysis',\n",
    "        'variable': 'particulate_matter_10um',\n",
    "        'leadtime_hour': '0',\n",
    "        'time': [\n",
    "            '00:00', '01:00', '02:00',\n",
    "            '03:00', '04:00', '05:00',\n",
    "            '06:00', '07:00', '08:00',\n",
    "            '09:00', '10:00', '11:00',\n",
    "            '12:00', '13:00', '14:00',\n",
    "            '15:00', '16:00', '17:00',\n",
    "            '18:00', '19:00', '20:00',\n",
    "            '21:00', '22:00', '23:00',\n",
    "        ],\n",
    "        'area': [\n",
    "            bounds[3], bounds[0], bounds[1],\n",
    "            bounds[2]],\n",
    "        'format': 'netcdf'\n",
    "    },\n",
    "    pm10_path)"
   ]
  },
  {
   "cell_type": "code",
   "execution_count": null,
   "id": "3bcf9d0c",
   "metadata": {},
   "outputs": [],
   "source": [
    "pm10 = xr.open_dataset(pm10_path)"
   ]
  },
  {
   "cell_type": "code",
   "execution_count": null,
   "id": "6f5cc72d",
   "metadata": {},
   "outputs": [],
   "source": [
    "pm10_mean = pm10.mean(dim='time')"
   ]
  },
  {
   "cell_type": "code",
   "execution_count": null,
   "id": "37709319",
   "metadata": {},
   "outputs": [],
   "source": [
    "pm10_mean.to_netcdf(pm10_path)"
   ]
  },
  {
   "cell_type": "markdown",
   "id": "f52628ac",
   "metadata": {},
   "source": [
    "# [NMVOCs - Non Methane VOCs](https://ads.atmosphere.copernicus.eu/cdsapp#!/dataset/cams-europe-air-quality-forecasts?tab=overview)"
   ]
  },
  {
   "cell_type": "code",
   "execution_count": null,
   "id": "264161a2",
   "metadata": {},
   "outputs": [],
   "source": [
    "nmvocs_path = cwd + r'/temp/nmvocs_cams.nc'\n",
    "nmvocs = c_atm.retrieve(\n",
    "    'cams-europe-air-quality-forecasts',\n",
    "    {\n",
    "        'model': 'ensemble',\n",
    "        'date': start_date+'/'+end_date,\n",
    "        'format': 'netcdf',\n",
    "        'level': '0',\n",
    "        'type': 'analysis',\n",
    "        'variable': 'non_methane_vocs',\n",
    "        'leadtime_hour': '0',\n",
    "        'time': [\n",
    "            '00:00', '01:00', '02:00',\n",
    "            '03:00', '04:00', '05:00',\n",
    "            '06:00', '07:00', '08:00',\n",
    "            '09:00', '10:00', '11:00',\n",
    "            '12:00', '13:00', '14:00',\n",
    "            '15:00', '16:00', '17:00',\n",
    "            '18:00', '19:00', '20:00',\n",
    "            '21:00', '22:00', '23:00',\n",
    "        ],\n",
    "        'area': [\n",
    "            bounds[3], bounds[0], bounds[1],\n",
    "            bounds[2]],\n",
    "        'format': 'netcdf'\n",
    "    },\n",
    "    nmvocs_path)"
   ]
  },
  {
   "cell_type": "code",
   "execution_count": null,
   "id": "83cf504c",
   "metadata": {},
   "outputs": [],
   "source": [
    "nmvocs = xr.open_dataset(nmvocs_path)"
   ]
  },
  {
   "cell_type": "code",
   "execution_count": null,
   "id": "649f287d",
   "metadata": {},
   "outputs": [],
   "source": [
    "nmvocs_mean = nmvocs.mean(dim='time')"
   ]
  },
  {
   "cell_type": "code",
   "execution_count": null,
   "id": "a947c8ca",
   "metadata": {},
   "outputs": [],
   "source": [
    "nmvocs_mean.to_netcdf(nmvocs_path)"
   ]
  },
  {
   "cell_type": "markdown",
   "id": "a45bcdae",
   "metadata": {},
   "source": [
    "---"
   ]
  },
  {
   "cell_type": "markdown",
   "id": "d317c226",
   "metadata": {},
   "source": [
    "# [ECMWF C3S ERA-5 Climate Reanalysis](https://developers.google.com/earth-engine/datasets/catalog/ECMWF_ERA5_LAND_HOURLY) \n",
    "ECMWF C3S ERA-5 Model data are retrieved using Google Earth Engine API.\n",
    "The data selected are:\n",
    " - Air temperature at 2 m above the land surface\n",
    " - Precipitation is defined as accumulated liquid and frozen water, including rain and snow\n",
    " - Pressure is defined as the weight of all the air in a column vertically above the area of the Earth's surface represented at a fixed point.\n",
    " - Northward and eastward wind (u_wind, v_component 10 m above the land surface\n",
    " - Soil humidity is defined as volume of water in soil layer 1 (0 - 7 cm)"
   ]
  },
  {
   "cell_type": "code",
   "execution_count": null,
   "id": "662c180f",
   "metadata": {},
   "outputs": [],
   "source": [
    "Map_era5 = geemap.Map(center=[45.5,10], zoom = 7 )\n",
    "Map_era5"
   ]
  },
  {
   "cell_type": "code",
   "execution_count": null,
   "id": "7ff92d64",
   "metadata": {},
   "outputs": [],
   "source": [
    "# Daily mean 2m air temperature\n",
    "temp_2m = ee.ImageCollection('ECMWF/ERA5_LAND/HOURLY')\\\n",
    "                   .select('temperature_2m')\\\n",
    "                   .filter(ee.Filter.date(start_date, end_date));\n",
    "\n",
    "# Daily total precipitation sums\n",
    "prec = ee.ImageCollection('ECMWF/ERA5_LAND/HOURLY')\\\n",
    "                  .select('total_precipitation')\\\n",
    "                  .filter(ee.Filter.date(start_date, end_date));\n",
    "\n",
    "# Daily mean surface pressure\n",
    "press = ee.ImageCollection('ECMWF/ERA5_LAND/HOURLY')\\\n",
    "                  .select('surface_pressure')\\\n",
    "                  .filter(ee.Filter.date(start_date, end_date));\n",
    "\n",
    "# Daily mean 10m u-component of wind\n",
    "u_wind = ee.ImageCollection('ECMWF/ERA5_LAND/HOURLY')\\\n",
    "                          .select('u_component_of_wind_10m')\\\n",
    "                          .filter(ee.Filter.date(start_date, end_date));\n",
    "\n",
    "# Daily mean 10m v-component of wind\n",
    "v_wind = ee.ImageCollection('ECMWF/ERA5_LAND/HOURLY')\\\n",
    "                          .select('v_component_of_wind_10m')\\\n",
    "                          .filter(ee.Filter.date(start_date, end_date));\n",
    "\n",
    "\n",
    "# Daily volumetric soil water content (level 1)\n",
    "hum = ee.ImageCollection('ECMWF/ERA5_LAND/HOURLY')\\\n",
    "                          .select('volumetric_soil_water_layer_1')\\\n",
    "                          .filter(ee.Filter.date(start_date, end_date));\n",
    "\n",
    "\n",
    "# Visualization palette for temperature at 2m\n",
    "temp_2m_viz  = {\n",
    "  'min': 220,\n",
    "  'max': 304,\n",
    "  'palette': ['#FFFFFF', '#00FFFF', '#0080FF', '#DA00FF', '#FFA400', '#FF0000']\n",
    "};\n",
    "\n",
    "# Visualization palette for pressure (surface pressure)\n",
    "press_viz = {\n",
    "  'min': 65000,\n",
    "  'max': 120000,\n",
    "  'palette': [\n",
    "    '#01FFFF', '#058BFF', '#0600FF', '#DF00FF', '#FF00FF', '#FF8C00', '#FF8C00'\n",
    "  ]\n",
    "};\n",
    "\n",
    "# Visualization palette for total precipitation\n",
    "prec_viz  = {\n",
    "  'min': 0,\n",
    "  'max': 0.1,\n",
    "  'palette': ['#FFFFFF', '#00FFFF', '#0080FF', '#DA00FF', '#FFA400', '#FF0000']\n",
    "};\n",
    "\n",
    "# Visualization palette for u-component of 10m wind\n",
    "u_wind_viz = {\n",
    "  'min': 0,\n",
    "  'max': 30,\n",
    "  'palette': [\n",
    "    '#FFFFFF', '#FFFF71', '#DEFF00', '#9EFF00', '#77B038', '#007E55', '#005F51',\n",
    "    '#004B51', '#013A7B', '#023AAD'\n",
    "  ]\n",
    "}\n",
    "                           \n",
    "# Visualization palette for v-component of 10m wind\n",
    "v_wind_viz = {\n",
    "  'min': 0,\n",
    "  'max': 30,\n",
    "  'palette': [\n",
    "    '#FFFFFF', '#FFFF71', '#DEFF00', '#9EFF00', '#77B038', '#007E55', '#005F51',\n",
    "    '#004B51', '#013A7B', '#023AAD'\n",
    "  ]\n",
    "};\n",
    "\n",
    "# Visualization palette for soil humitidy\n",
    "hum_viz = {\n",
    "  'min': 0,\n",
    "  'max': 1,\n",
    "  'palette': [\n",
    "    '#FFFFFF', '#FFFF71', '#DEFF00', '#9EFF00', '#77B038', '#007E55', '#005F51',\n",
    "    '#004B51', '#013A7B', '#023AAD'\n",
    "  ]\n",
    "};\n",
    "\n",
    "temp_2m = temp_2m.mean()\n",
    "press = press.mean()\n",
    "prec = prec.mean()\n",
    "u_wind = u_wind.mean()\n",
    "v_wind = v_wind.mean()\n",
    "hum = hum.mean()"
   ]
  },
  {
   "cell_type": "code",
   "execution_count": null,
   "id": "db73efb0",
   "metadata": {},
   "outputs": [],
   "source": [
    "#Clip over the ROI previously defined\n",
    "temp_2m_clip = temp_2m.clip(roi)\n",
    "press_clip = press.clip(roi)\n",
    "prec_clip = prec.clip(roi)\n",
    "u_wind_clip = u_wind.clip(roi)\n",
    "v_wind_clip = v_wind.clip(roi)\n",
    "hum_clip = hum.clip(roi)\n",
    "\n",
    "Map_era5.addLayer(temp_2m_clip, temp_2m_viz, '2m temperature');\n",
    "Map_era5.addLayer(press_clip, press_viz, 'press');\n",
    "Map_era5.addLayer(prec_clip, prec_viz, 'precipitation');\n",
    "Map_era5.addLayer(u_wind_clip, u_wind_viz, 'u wind');\n",
    "Map_era5.addLayer(v_wind_clip, v_wind_viz, 'v wind');\n",
    "Map_era5.addLayer(hum_clip, hum_viz, 'soil humitidy');"
   ]
  },
  {
   "cell_type": "code",
   "execution_count": null,
   "id": "178273df",
   "metadata": {},
   "outputs": [],
   "source": [
    "out_dir = os.path.expanduser(cwd + '/temp')\n",
    "filename = os.path.join(out_dir, 'temp_2m.tif')\n",
    "geemap.ee_export_image(temp_2m_clip, filename=filename, scale=era5_scale)"
   ]
  },
  {
   "cell_type": "code",
   "execution_count": null,
   "id": "d43232d8",
   "metadata": {},
   "outputs": [],
   "source": [
    "out_dir = os.path.expanduser(cwd + '/temp')\n",
    "filename = os.path.join(out_dir, 'press.tif')\n",
    "geemap.ee_export_image(press_clip, filename=filename, scale=era5_scale)"
   ]
  },
  {
   "cell_type": "code",
   "execution_count": null,
   "id": "926415dc",
   "metadata": {},
   "outputs": [],
   "source": [
    "out_dir = os.path.expanduser(cwd + '/temp')\n",
    "filename = os.path.join(out_dir, 'prec.tif')\n",
    "geemap.ee_export_image(prec_clip, filename=filename, scale=era5_scale)"
   ]
  },
  {
   "cell_type": "code",
   "execution_count": null,
   "id": "344a37cf",
   "metadata": {},
   "outputs": [],
   "source": [
    "out_dir = os.path.expanduser(cwd + '/temp')\n",
    "filename = os.path.join(out_dir, 'e_wind.tif')\n",
    "geemap.ee_export_image(u_wind_clip, filename=filename, scale=era5_scale)"
   ]
  },
  {
   "cell_type": "code",
   "execution_count": null,
   "id": "2c5ab878",
   "metadata": {},
   "outputs": [],
   "source": [
    "out_dir = os.path.expanduser(cwd + '/temp')\n",
    "filename = os.path.join(out_dir, 'n_wind.tif')\n",
    "geemap.ee_export_image(v_wind_clip, filename=filename, scale=era5_scale)"
   ]
  },
  {
   "cell_type": "code",
   "execution_count": null,
   "id": "b772ba4d",
   "metadata": {},
   "outputs": [],
   "source": [
    "out_dir = os.path.expanduser(cwd + '/temp')\n",
    "filename = os.path.join(out_dir, 'soil_hum.tif')\n",
    "geemap.ee_export_image(hum_clip, filename=filename, scale=era5_scale)"
   ]
  },
  {
   "cell_type": "markdown",
   "id": "7a765c27-c4bd-4cbc-ab81-342db927393b",
   "metadata": {},
   "source": [
    "---"
   ]
  },
  {
   "cell_type": "markdown",
   "id": "74470a6c-923f-4b10-8c61-2feec1773ea1",
   "metadata": {},
   "source": [
    "# [WorldPop Global Project Population Data: Estimated Residential Population per 100x100m Grid Square](https://developers.google.com/earth-engine/datasets/catalog/WorldPop_GP_100m_pop) \n",
    "\n",
    "Gridded population data with 100m resolution for 2020. Data are retrieved using Google Earth Engine API"
   ]
  },
  {
   "cell_type": "code",
   "execution_count": null,
   "id": "dbb33c5a-c273-4c04-82ee-acf9d7eb67d4",
   "metadata": {},
   "outputs": [],
   "source": [
    "Map_pop = geemap.Map(center=[45.5,10], zoom = 7 )\n",
    "Map_pop"
   ]
  },
  {
   "cell_type": "code",
   "execution_count": null,
   "id": "23e0d7cf-e99e-468e-aae3-69bcd08c8c8e",
   "metadata": {},
   "outputs": [],
   "source": [
    "pop = ee.ImageCollection(\"WorldPop/GP/100m/pop\").filter(ee.Filter.date('2020-01-01', '2020-12-31')).mean()"
   ]
  },
  {
   "cell_type": "code",
   "execution_count": null,
   "id": "3d4e115c-76da-48e4-9f5b-fb16c57091f9",
   "metadata": {},
   "outputs": [],
   "source": [
    "# Visualization palette for temperature at 2m\n",
    "pop_viz  = {\n",
    "    'bands': ['population'],\n",
    "    'min': 0,\n",
    "    'max': 50,\n",
    "    'palette': ['24126c', '1fff4f', 'd4ff50']\n",
    "};"
   ]
  },
  {
   "cell_type": "code",
   "execution_count": null,
   "id": "aff4e95a-823e-476f-afe5-1a00a54aab99",
   "metadata": {},
   "outputs": [],
   "source": [
    "pop_clip = pop.clip(roi)"
   ]
  },
  {
   "cell_type": "code",
   "execution_count": null,
   "id": "749eceae-1fe9-4d7a-9158-bedbf46a91b4",
   "metadata": {},
   "outputs": [],
   "source": [
    "Map_pop.addLayer(pop_clip, pop_viz, 'Population')\n",
    "Map_pop"
   ]
  },
  {
   "cell_type": "code",
   "execution_count": null,
   "id": "12387a02-e21c-4164-a76a-2e4fbfb74647",
   "metadata": {},
   "outputs": [],
   "source": [
    "out_dir = os.path.expanduser(cwd + '/temp')\n",
    "filename = os.path.join(out_dir, 'population.tif')\n",
    "geemap.ee_export_image(pop_clip, filename=filename, scale=100)"
   ]
  },
  {
   "cell_type": "code",
   "execution_count": null,
   "id": "77a6e0fd-5650-49a2-9aa6-89a597981f7a",
   "metadata": {},
   "outputs": [],
   "source": []
  }
 ],
 "metadata": {
  "kernelspec": {
   "display_name": "Python 3 (ipykernel)",
   "language": "python",
   "name": "python3"
  },
  "language_info": {
   "codemirror_mode": {
    "name": "ipython",
    "version": 3
   },
   "file_extension": ".py",
   "mimetype": "text/x-python",
   "name": "python",
   "nbconvert_exporter": "python",
   "pygments_lexer": "ipython3",
   "version": "3.9.10"
  }
 },
 "nbformat": 4,
 "nbformat_minor": 5
}
