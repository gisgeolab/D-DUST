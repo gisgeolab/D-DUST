{
 "cells": [
  {
   "cell_type": "markdown",
   "id": "0070a88d-8e23-4552-b3c4-48ee989983da",
   "metadata": {},
   "source": [
    "# Results of Model prediction\n",
    "In this notebook is possible to retrieve test results al ready run in the notebooks of [RF](https://github.com/opengeolab/D-DUST/blob/thesis_MB/notebooks/RandomForest_prediction_model.ipynb) and [Keras](https://github.com/opengeolab/D-DUST/blob/thesis_MB/notebooks/Keras_prediction_model.ipynb) prediction model.\n",
    "Each test are executed (both nh3 and pm25) by considering a **VarianceThreshold = 0.1** in the feature seleciton phase.\n",
    "\n",
    "\n",
    "In order to do that is necessary to set the parameter of the test choosen using dropdown widgtes.\n",
    "<div></br></br>\n",
    "<img align=\"right\" width=\"300\" src = assets/images/table.png>\n",
    "<img align=\"right\" width=\"230\" height=\"300\" src = assets/images/dropdown.png>\n",
    "</br>\n",
    "</div>"
   ]
  },
  {
   "cell_type": "code",
   "execution_count": 1,
   "id": "af78f3e2-a476-4548-a58f-85d8172310a5",
   "metadata": {},
   "outputs": [],
   "source": [
    "import ipywidgets as widgets\n",
    "import pandas as pd\n",
    "from tabulate import tabulate\n",
    "\n",
    "from IPython.core.display import display\n",
    "from ipywidgets import Layout\n",
    "\n",
    "params = ['0_1_mountains', '0_1_nomountains', '0_01_mountains', '0_01_nomountains']\n",
    "NUMBER_OF_COVARIATES = 12\n",
    "\n",
    "\n",
    "\n",
    "\n",
    "models = widgets.Dropdown(\n",
    "    options=['Keras Neural Network','Random Forest'],\n",
    "    value='Keras Neural Network',\n",
    "    description='Model:',\n",
    "    disabled=False,\n",
    ")\n",
    "\n",
    "\n",
    "configuration = widgets.Dropdown(\n",
    "    options=params,\n",
    "    value=params[0],\n",
    "    description='Settings:',\n",
    "    disabled=False,\n",
    ")\n",
    "target = widgets.Dropdown(\n",
    "    options=['pm25_st', 'nh3_st'],\n",
    "    value='pm25_st',\n",
    "    description='Target:',\n",
    "    disabled=False,\n",
    ")\n",
    "\n"
   ]
  },
  {
   "cell_type": "code",
   "execution_count": 5,
   "id": "d4ac8b3e-acdc-4b35-9bec-159794a1d3e3",
   "metadata": {},
   "outputs": [
    {
     "data": {
      "application/vnd.jupyter.widget-view+json": {
       "model_id": "7d29cdd40100445a80684b3fc3ca8fa9",
       "version_major": 2,
       "version_minor": 0
      },
      "text/plain": [
       "VBox(children=(Dropdown(description='Model:', index=1, options=('Keras Neural Network', 'Random Forest'), valu…"
      ]
     },
     "metadata": {},
     "output_type": "display_data"
    },
    {
     "data": {
      "application/vnd.jupyter.widget-view+json": {
       "model_id": "410cb060768649e4be28581bbf7c08df",
       "version_major": 2,
       "version_minor": 0
      },
      "text/plain": [
       "Output()"
      ]
     },
     "metadata": {},
     "output_type": "display_data"
    }
   ],
   "source": [
    "def results(model, target_choosen, configuration_choosen):\n",
    "    global results\n",
    "    if(models.value == 'Random Forest'):\n",
    "        results = pd.read_csv('assets/test/RF'+target.value+configuration.value+'.csv')\n",
    "    else:\n",
    "        results = pd.read_csv('assets/test/keras'+target.value+configuration.value+'.csv')\n",
    "        \n",
    "    results = results.rename(columns={'0324_0331_2021': '24/03-31/03', '0418_0425_2021': '18/04-25/04', '0717_0724_2021': '17/07-24/07', '0903_0910_2021': '3/09-10/09','1007_1014_2021': '7/10-14/10'})\n",
    "\n",
    "    display(results)\n",
    "    print(results.to_latex(index=False))  \n",
    "\n",
    "    return results\n",
    "\n",
    "    \n",
    "table = widgets.interactive_output(results, {'model':models, 'target_choosen': target, 'configuration_choosen':configuration})\n",
    "output = widgets.VBox([models, target, configuration], layout=Layout(border='solid'))\n",
    "\n",
    "display(output, table)\n"
   ]
  },
  {
   "cell_type": "code",
   "execution_count": 1,
   "id": "3f05aa41-e460-49c8-a3df-96e5a93d219a",
   "metadata": {},
   "outputs": [
    {
     "name": "stdout",
     "output_type": "stream",
     "text": [
      "pm25_st\n",
      "Random Forest results\n"
     ]
    },
    {
     "ename": "NameError",
     "evalue": "name 'params' is not defined",
     "output_type": "error",
     "traceback": [
      "\u001B[0;31m---------------------------------------------------------------------------\u001B[0m",
      "\u001B[0;31mNameError\u001B[0m                                 Traceback (most recent call last)",
      "\u001B[0;32m/var/folders/zm/5fkjvb8s35b6fv30t5jrmgx00000gn/T/ipykernel_12642/1663182772.py\u001B[0m in \u001B[0;36m<module>\u001B[0;34m\u001B[0m\n\u001B[1;32m      9\u001B[0m     \u001B[0mavgr2_cams\u001B[0m \u001B[0;34m=\u001B[0m \u001B[0;34m[\u001B[0m\u001B[0;34m]\u001B[0m\u001B[0;34m\u001B[0m\u001B[0;34m\u001B[0m\u001B[0m\n\u001B[1;32m     10\u001B[0m     \u001B[0mprint\u001B[0m\u001B[0;34m(\u001B[0m\u001B[0;34m'Random Forest results'\u001B[0m\u001B[0;34m)\u001B[0m\u001B[0;34m\u001B[0m\u001B[0;34m\u001B[0m\u001B[0m\n\u001B[0;32m---> 11\u001B[0;31m     \u001B[0;32mfor\u001B[0m \u001B[0mpar\u001B[0m \u001B[0;32min\u001B[0m \u001B[0mparams\u001B[0m\u001B[0;34m:\u001B[0m\u001B[0;34m\u001B[0m\u001B[0;34m\u001B[0m\u001B[0m\n\u001B[0m\u001B[1;32m     12\u001B[0m         \u001B[0mres\u001B[0m \u001B[0;34m=\u001B[0m \u001B[0mpd\u001B[0m\u001B[0;34m.\u001B[0m\u001B[0mread_csv\u001B[0m\u001B[0;34m(\u001B[0m\u001B[0;34m'assets/test/RF'\u001B[0m\u001B[0;34m+\u001B[0m\u001B[0mtarget\u001B[0m\u001B[0;34m+\u001B[0m\u001B[0mpar\u001B[0m\u001B[0;34m+\u001B[0m\u001B[0;34m'.csv'\u001B[0m\u001B[0;34m)\u001B[0m\u001B[0;34m.\u001B[0m\u001B[0mmean\u001B[0m\u001B[0;34m(\u001B[0m\u001B[0maxis\u001B[0m\u001B[0;34m=\u001B[0m\u001B[0;36m1\u001B[0m\u001B[0;34m)\u001B[0m\u001B[0;34m.\u001B[0m\u001B[0mtolist\u001B[0m\u001B[0;34m(\u001B[0m\u001B[0;34m)\u001B[0m\u001B[0;34m\u001B[0m\u001B[0;34m\u001B[0m\u001B[0m\n\u001B[1;32m     13\u001B[0m         \u001B[0mavgmae\u001B[0m\u001B[0;34m.\u001B[0m\u001B[0mappend\u001B[0m\u001B[0;34m(\u001B[0m\u001B[0mfloat\u001B[0m\u001B[0;34m(\u001B[0m\u001B[0mres\u001B[0m\u001B[0;34m[\u001B[0m\u001B[0;36m0\u001B[0m\u001B[0;34m]\u001B[0m\u001B[0;34m)\u001B[0m\u001B[0;34m)\u001B[0m\u001B[0;34m\u001B[0m\u001B[0;34m\u001B[0m\u001B[0m\n",
      "\u001B[0;31mNameError\u001B[0m: name 'params' is not defined"
     ]
    }
   ],
   "source": [
    "import numpy as np\n",
    "for target in ['pm25_st', 'nh3_st']:\n",
    "    print(target)\n",
    "    avgmae = []\n",
    "    avgmse = []\n",
    "    avgr2 = []\n",
    "    avgmae_cams = []\n",
    "    avgmse_cams = []\n",
    "    avgr2_cams = []\n",
    "    print('Random Forest results')\n",
    "    for par in params:\n",
    "        res = pd.read_csv('assets/test/RF'+target+par+'.csv').mean(axis=1).tolist()\n",
    "        avgmae.append(float(res[0]))\n",
    "        avgmse.append(float(res[1]))\n",
    "        avgr2.append(float(res[2])*100)\n",
    "        avgmae_cams.append(float(res[3]))\n",
    "        avgmse_cams.append(float(res[4]))\n",
    "        avgr2_cams.append(float(res[5])*100)\n",
    "\n",
    "        print(par)\n",
    "        print('Mean MAE: ',np.mean(avgmae))\n",
    "        print('Mean MSE: ',np.mean(avgmse))\n",
    "        print('Mean R2: ',np.mean(avgr2), '%')\n",
    "        print('Mean MAE (cams): ',np.mean(avgmae_cams))\n",
    "        print('Mean MSE (cams): ',np.mean(avgmse_cams))\n",
    "        print('Mean R2 (cams): ',np.mean(avgr2_cams), '%')\n",
    "\n",
    "    print('Neural Network results')\n",
    "\n",
    "    for par in params:\n",
    "        res = pd.read_csv('assets/test/keras'+target+par+'.csv').mean(axis=1).tolist()\n",
    "        avgmae.append(float(res[0]))\n",
    "        avgmse.append(float(res[1]))\n",
    "        avgr2.append(float(res[2]))\n",
    "        avgmae_cams.append(float(res[3]))\n",
    "        avgmse_cams.append(float(res[4]))\n",
    "        avgr2_cams.append(float(res[5]))\n",
    "\n",
    "        print('Mean MAE: ',np.mean(avgmae))\n",
    "        print('Mean MSE: ',np.mean(avgmse))\n",
    "        print('Mean R2: ',np.mean(avgr2))\n",
    "        print('Mean MAE (cams): ',np.mean(avgmae_cams))\n",
    "        print('Mean MSE (cams): ',np.mean(avgmse_cams))\n",
    "        print('Mean R2 (cams): ',np.mean(avgr2_cams))\n"
   ]
  },
  {
   "cell_type": "code",
   "execution_count": null,
   "id": "e0bcd1ce-bdf1-4ce6-ba6d-f4f55bf275c6",
   "metadata": {},
   "outputs": [],
   "source": [
    "#To be run only for generate latex table\n",
    "print('\\nTabulate Latex:')\n",
    "print(tabulate(results, headers=results.columns.values, tablefmt='latex'))"
   ]
  },
  {
   "cell_type": "code",
   "execution_count": null,
   "id": "7e3a6fde-1c28-40e7-b4a5-709be05ae729",
   "metadata": {},
   "outputs": [],
   "source": []
  },
  {
   "cell_type": "code",
   "execution_count": null,
   "id": "fa95cf2f-5017-458b-8389-21c075620e08",
   "metadata": {},
   "outputs": [],
   "source": []
  }
 ],
 "metadata": {
  "kernelspec": {
   "display_name": "Python 3 (ipykernel)",
   "language": "python",
   "name": "python3"
  },
  "language_info": {
   "codemirror_mode": {
    "name": "ipython",
    "version": 3
   },
   "file_extension": ".py",
   "mimetype": "text/x-python",
   "name": "python",
   "nbconvert_exporter": "python",
   "pygments_lexer": "ipython3",
   "version": "3.9.7"
  }
 },
 "nbformat": 4,
 "nbformat_minor": 5
}