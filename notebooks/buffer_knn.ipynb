{
 "cells": [
  {
   "cell_type": "markdown",
   "id": "e5f688f0-be3c-471b-bb8b-a1314b6c3cd4",
   "metadata": {},
   "source": [
    "# Buffer with the use of k-nearest neighbor algorithm\n",
    "This notebook take as input a grid data and increases the number of observations of a given feature using a buffer. \n",
    "The buffer set new interpolated observations by using k-nearest neighbor to detected the closest cells to no-nullable values of the given variable."
   ]
  },
  {
   "cell_type": "code",
   "execution_count": 2,
   "id": "61519df0",
   "metadata": {},
   "outputs": [
    {
     "name": "stdout",
     "output_type": "stream",
     "text": [
      "old size    new size\n",
      "8          69\n"
     ]
    },
    {
     "data": {
      "text/plain": [
       "<matplotlib.legend.Legend at 0x7f7e7baaf970>"
      ]
     },
     "execution_count": 2,
     "metadata": {},
     "output_type": "execute_result"
    },
    {
     "data": {
      "image/png": "[encoded data removed]",
      "text/plain": [
       "<Figure size 576x576 with 1 Axes>"
      ]
     },
     "metadata": {
      "needs_background": "light"
     },
     "output_type": "display_data"
    }
   ],
   "source": [
    "import geopandas as gpd\n",
    "from fs import methods as m\n",
    "import warnings\n",
    "warnings.filterwarnings(\"ignore\")\n",
    "import os\n",
    "from shapely.geometry import Point\n",
    "import matplotlib.pyplot as plt\n",
    "\n",
    "#parameter about sensor and resolution choosen\n",
    "RESOLUTION = '0_1'\n",
    "SENSOR = 'nh3_st'\n",
    "geopackages = os.listdir('assets/grids_'+RESOLUTION)\n",
    "\n",
    "print('old size    new size')\n",
    "\n",
    "#data acquisition\n",
    "data = gpd.read_file('assets/grids_'+RESOLUTION+'/'+ geopackages[0])\n",
    "#data cleaning\n",
    "points_st = data[~data[SENSOR].isnull()]\n",
    "data_filtered = data[data[SENSOR].isnull()]\n",
    "\n",
    "#add buffer increase the number of observation in the sensor variable\n",
    "if(RESOLUTION == '0_1'):\n",
    "    results = m.add_buffer(points_st, data, data, 10, SENSOR) \n",
    "else:\n",
    "    results = m.add_buffer(points_st, data, data, 30, SENSOR)\n",
    "   \n",
    "results = results[~results[SENSOR].isnull()].dropna(axis=1)\n",
    "\n",
    "#data visualisation\n",
    "centr_filtered = data_filtered[['lng_cen','lat_cen']]\n",
    "geometry_filtered = [Point(xy) for xy in zip(data_filtered['lng_cen'], data_filtered['lat_cen'])]\n",
    "cent_filtered_df = gpd.GeoDataFrame(centr_filtered,\n",
    "                          crs = \"EPSG:4326\",\n",
    "                          geometry = geometry_filtered)\n",
    "fig, ax = plt.subplots(figsize=(8, 8))\n",
    "cent_filtered_df.plot(ax=ax, marker='*', color='blue', markersize=40, legend=True, \n",
    "                          label= \"Not Interpolated\")\n",
    "centr_st = points_st[['lng_cen','lat_cen']]\n",
    "geometry_st = [Point(xy) for xy in zip(centr_st['lng_cen'], centr_st['lat_cen'])]\n",
    "cent_st_df = gpd.GeoDataFrame(centr_st,\n",
    "                          crs = \"EPSG:4326\",\n",
    "                          geometry = geometry_st)\n",
    "\n",
    "print(points_st.shape[0], '        ',results.shape[0])\n",
    "\n",
    "centr_results = results[['lng_cen','lat_cen']]\n",
    "geometry_results = [Point(xy) for xy in zip(results['lng_cen'], results['lat_cen'])]\n",
    "results_df = gpd.GeoDataFrame(centr_results,\n",
    "                          crs = \"EPSG:4326\",\n",
    "                          geometry = geometry_results)\n",
    "results_df.plot(ax=ax, marker='D', color='green', markersize=50, legend=True, \n",
    "                label = \"Inteprolated\");\n",
    "\n",
    "cent_st_df.plot(ax=ax, marker='+', color='red', markersize=190, legend=True, \n",
    "                label = \"Sensor\");\n",
    "ax.legend()\n",
    "\n",
    "\n",
    "\n"
   ]
  },
  {
   "cell_type": "markdown",
   "id": "44c2d86c-7617-43c5-a0e6-2a996649458f",
   "metadata": {},
   "source": [
    "### "
   ]
  },
  {
   "cell_type": "code",
   "execution_count": null,
   "id": "7d988dba-5a48-4374-ab3d-240be543592e",
   "metadata": {},
   "outputs": [],
   "source": []
  }
 ],
 "metadata": {
  "kernelspec": {
   "display_name": "Python 3 (ipykernel)",
   "language": "python",
   "name": "python3"
  },
  "language_info": {
   "codemirror_mode": {
    "name": "ipython",
    "version": 3
   },
   "file_extension": ".py",
   "mimetype": "text/x-python",
   "name": "python",
   "nbconvert_exporter": "python",
   "pygments_lexer": "ipython3",
   "version": "3.9.7"
  }
 },
 "nbformat": 4,
 "nbformat_minor": 5
}
