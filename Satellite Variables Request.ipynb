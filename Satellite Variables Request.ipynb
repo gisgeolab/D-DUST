{
 "cells": [
  {
   "cell_type": "markdown",
   "id": "7df1344b",
   "metadata": {},
   "source": [
    "# API Request notebook for air quality satellite data from Google Earth Engine API and geemap library\n",
    "\n",
    "<img style=\"margin-right:20px;\" src=img/DDUST__Nero.png width=\"150\">"
   ]
  },
  {
   "cell_type": "markdown",
   "id": "67f665a1",
   "metadata": {},
   "source": [
    "This notebook is used to download data from satellites (e.g. Sentinel-5P Tropomi and Terra&Aqua MODIS).\n",
    "This notebook allows access to [Google Earth Engine API](https://developers.google.com/earth-engine/datasets) using the [geemap](https://geemap.org/) Python library and it requests data over the region identified by the bounding box given as input.\n",
    "It also calculates the mean value for each variable in the given week (defined in the **date.json** file).\n",
    "\n",
    "**Sentinel-5P Tropomi** data considered in this notebook:\n",
    "1. Nitrogen Dioxide - NO2\n",
    "2. Ozone - O3\n",
    "3. Sulfur Dioxide - SO2\n",
    "4. Carbon Monoxide - CO\n",
    "5. Formaldehyde - CH2O\n",
    "6. Ultraviolet Aerosol Index - UVAI\n",
    "7. Methane - CH4\n",
    "8. Aerosol Optical Depth (AOD)\n",
    "\n",
    "**Terra & Aqua MODIS** data considered in this notebook:\n",
    "1. Aerosol Optical Depth (AOD) 550 nm \n",
    "2. Aerosol Optical Depth (AOD) 470 nm \n",
    "\n",
    "Two additional datasets are also downloaded in the last part of the notebook:\n",
    "1. NDVI 16-Days Global\n",
    "2. Soil Type OpenLandMap USDA"
   ]
  },
  {
   "cell_type": "markdown",
   "id": "427ec1a4",
   "metadata": {},
   "source": [
    "### Documentation"
   ]
  },
  {
   "cell_type": "markdown",
   "id": "ba94fea2",
   "metadata": {},
   "source": [
    "Reference material and datasets:\n",
    "1. Sentinel-5P products: https://sentinels.copernicus.eu/web/sentinel/data-products\n",
    "2. Terra & Aqua MODIS: https://modis.gsfc.nasa.gov/about/\n",
    "3. geemap site and documentation: https://geemap.org/\n",
    "4. geemap GitHub repository: https://github.com/giswqs/geemap\n",
    "5. Google Earth Engine catalog: https://developers.google.com/earth-engine/datasets\n",
    "\n",
    "Each paragraph links to the specific resource used in this notebook."
   ]
  },
  {
   "cell_type": "markdown",
   "id": "dd30dcd6",
   "metadata": {},
   "source": [
    "### Import libraries"
   ]
  },
  {
   "cell_type": "code",
   "execution_count": null,
   "id": "775426b5",
   "metadata": {},
   "outputs": [],
   "source": [
    "import ee\n",
    "import geemap\n",
    "import os\n",
    "import geopandas as gpd\n",
    "import json\n",
    "import ipywidgets as widgets\n",
    "import datetime\n",
    "# Import functions defined for DDUST project:\n",
    "from functions import DDUST_methods"
   ]
  },
  {
   "cell_type": "markdown",
   "id": "b5aa9781",
   "metadata": {},
   "source": [
    "### Authentication\n",
    "A Google account is required to be able to log in and provide the requested URL:"
   ]
  },
  {
   "cell_type": "code",
   "execution_count": null,
   "id": "d9725309",
   "metadata": {},
   "outputs": [],
   "source": [
    "ee.Authenticate()"
   ]
  },
  {
   "cell_type": "code",
   "execution_count": null,
   "id": "1131cce5",
   "metadata": {},
   "outputs": [],
   "source": [
    "ee.Initialize()"
   ]
  },
  {
   "cell_type": "code",
   "execution_count": null,
   "id": "f6d71feb",
   "metadata": {},
   "outputs": [],
   "source": [
    "# Set current working directory\n",
    "cwd = os.getcwd()"
   ]
  },
  {
   "cell_type": "markdown",
   "id": "57610d76",
   "metadata": {
    "tags": []
   },
   "source": [
    "### Bounding Box selection\n",
    "The bounding box for the project is given as input and it's used as Region of Interest (`roi`) for the following calculations:"
   ]
  },
  {
   "cell_type": "code",
   "execution_count": null,
   "id": "3db8c045",
   "metadata": {},
   "outputs": [],
   "source": [
    "area_path = cwd + '/grid/grid_0_1.gpkg'\n",
    "area = gpd.read_file(area_path).to_crs(4326)\n",
    "bounds = area.total_bounds\n",
    "roi = ee.Geometry.BBox(bounds[0],bounds[1],bounds[2],bounds[3])"
   ]
  },
  {
   "cell_type": "code",
   "execution_count": null,
   "id": "6cb74582-5056-49b3-9951-f54b3bbdcdd3",
   "metadata": {},
   "outputs": [],
   "source": [
    "bounds"
   ]
  },
  {
   "cell_type": "markdown",
   "id": "d47f19d7",
   "metadata": {
    "tags": []
   },
   "source": [
    "### Date selection\n",
    "The date is provided with the following order (yyyy-mm-dd). They are stored in the **date.json** file:"
   ]
  },
  {
   "cell_type": "code",
   "execution_count": null,
   "id": "ae7e2a70",
   "metadata": {},
   "outputs": [],
   "source": [
    "d = open('date.json')\n",
    "date = json.load(d)\n",
    "year = date['year']\n",
    "custom_week = date['custom_week']"
   ]
  },
  {
   "cell_type": "code",
   "execution_count": null,
   "id": "f60361bf",
   "metadata": {},
   "outputs": [],
   "source": [
    "# Select start and end date of the corresponding selected week:\n",
    "start_date = str(datetime.datetime.strptime((str(year)+'-'+custom_week[0]), \"%Y-%m-%d\").date())\n",
    "end_date = str(datetime.datetime.strptime((str(year)+'-'+custom_week[1]), \"%Y-%m-%d\").date())\n",
    "print(\"The starting date is\", start_date,\"and the ending date is\" , end_date,\". The date is define as yyyy-mm-dd.\")"
   ]
  },
  {
   "cell_type": "code",
   "execution_count": null,
   "id": "4a6a47ab-3331-4dc4-94be-42f0dcb6ece7",
   "metadata": {},
   "outputs": [],
   "source": [
    "s5p_scale = 1000"
   ]
  },
  {
   "cell_type": "markdown",
   "id": "c69ac999",
   "metadata": {},
   "source": [
    "---"
   ]
  },
  {
   "cell_type": "markdown",
   "id": "15a30731",
   "metadata": {},
   "source": [
    "# [NO2 - Nitrogen Dioxide](https://developers.google.com/earth-engine/datasets/catalog/COPERNICUS_S5P_OFFL_L3_NO2) "
   ]
  },
  {
   "cell_type": "code",
   "execution_count": null,
   "id": "e3015866",
   "metadata": {},
   "outputs": [],
   "source": [
    "#Create a map\n",
    "Map_no2 = geemap.Map(center=[45.5,10], zoom = 7 )\n",
    "Map_no2"
   ]
  },
  {
   "cell_type": "code",
   "execution_count": null,
   "id": "d4c364d2",
   "metadata": {},
   "outputs": [],
   "source": [
    "#Access to NO2 image collection, selecting the band name and giving a date range\n",
    "no2 = ee.ImageCollection('COPERNICUS/S5P/OFFL/L3_NO2')\\\n",
    "  .select('tropospheric_NO2_column_number_density')\\\n",
    "  .filterDate(start_date, end_date);\n",
    "\n",
    "#Image visualization properties\n",
    "no2_viz = {\n",
    "    'min': 0,\n",
    "    'max': 0.00007,\n",
    "    'opacity': 0.75,\n",
    "    'palette': ['black', 'blue', 'purple', 'cyan', 'green', 'yellow', 'red']\n",
    "};\n",
    "\n",
    "#Calculate the mean value for each pixel in the time range\n",
    "no2 = no2.mean()\n",
    "Map_no2 .addLayer(no2, no2_viz, 'no2');"
   ]
  },
  {
   "cell_type": "code",
   "execution_count": null,
   "id": "48cee5b5",
   "metadata": {},
   "outputs": [],
   "source": [
    "#Clip over the ROI previously defined\n",
    "no2_clip = no2.clip(roi)\n",
    "Map_no2.addLayer(no2_clip, no2_viz, 'no2');"
   ]
  },
  {
   "cell_type": "code",
   "execution_count": null,
   "id": "0974b311",
   "metadata": {},
   "outputs": [],
   "source": [
    "# Set output directory\n",
    "out_dir = os.path.expanduser(cwd + '/temp')\n",
    "\n",
    "if not os.path.exists(out_dir):\n",
    "    os.makedirs(out_dir)\n",
    "\n",
    "filename = os.path.join(out_dir, 'no2_s5p.tif')"
   ]
  },
  {
   "cell_type": "code",
   "execution_count": null,
   "id": "57bab351",
   "metadata": {},
   "outputs": [],
   "source": [
    "#Export the NO2 .tif file in the directory selected by filename\n",
    "geemap.ee_export_image(no2_clip, filename=filename, scale = s5p_scale)"
   ]
  },
  {
   "cell_type": "markdown",
   "id": "980571bb",
   "metadata": {},
   "source": [
    "---"
   ]
  },
  {
   "cell_type": "markdown",
   "id": "0911d9ae",
   "metadata": {},
   "source": [
    "# [SO2 - Sulphur Dioxide](https://developers.google.com/earth-engine/datasets/catalog/COPERNICUS_S5P_OFFL_L3_SO2) "
   ]
  },
  {
   "cell_type": "code",
   "execution_count": null,
   "id": "92413e16",
   "metadata": {},
   "outputs": [],
   "source": [
    "Map_so2 = geemap.Map(center=[45.5,10], zoom = 7 )\n",
    "Map_so2 "
   ]
  },
  {
   "cell_type": "code",
   "execution_count": null,
   "id": "7605fa44",
   "metadata": {},
   "outputs": [],
   "source": [
    "#Access to SO2 image collection, selecting the band name and giving a date range\n",
    "so2 = ee.ImageCollection('COPERNICUS/S5P/OFFL/L3_SO2')\\\n",
    "  .select('SO2_column_number_density')\\\n",
    "  .filterDate(start_date, end_date);\n",
    "\n",
    "#Image visualization properties\n",
    "so2_viz = {\n",
    "    'min': 0,\n",
    "    'max': 0.001,\n",
    "    'opacity': 0.75,\n",
    "    'palette': ['black', 'blue', 'purple', 'cyan', 'green', 'yellow', 'red']\n",
    "};\n",
    "\n",
    "#Calculate the mean value for each pixel in the time range\n",
    "so2 = so2.mean()\n",
    "Map_so2 .addLayer(so2, so2_viz, 'so2');"
   ]
  },
  {
   "cell_type": "code",
   "execution_count": null,
   "id": "3b64d4f3",
   "metadata": {},
   "outputs": [],
   "source": [
    "#Clip over the ROI previously defined\n",
    "so2_clip = so2.clip(roi)\n",
    "Map_so2 .addLayer(so2_clip, so2_viz, 'so2');"
   ]
  },
  {
   "cell_type": "code",
   "execution_count": null,
   "id": "b4d0e736",
   "metadata": {},
   "outputs": [],
   "source": [
    "# Set output directory for SO2\n",
    "out_dir = os.path.expanduser(cwd + '/temp')\n",
    "\n",
    "filename = os.path.join(out_dir, 'so2_s5p.tif')"
   ]
  },
  {
   "cell_type": "code",
   "execution_count": null,
   "id": "48fa15c3",
   "metadata": {},
   "outputs": [],
   "source": [
    "geemap.ee_export_image(so2_clip, filename=filename, scale= s5p_scale)"
   ]
  },
  {
   "cell_type": "markdown",
   "id": "ccc271c4",
   "metadata": {},
   "source": [
    "---"
   ]
  },
  {
   "cell_type": "markdown",
   "id": "1b5f196a",
   "metadata": {},
   "source": [
    "# [UVAI - Ultraviolet Aerosol Index](https://developers.google.com/earth-engine/datasets/catalog/COPERNICUS_S5P_OFFL_L3_AER_AI) "
   ]
  },
  {
   "cell_type": "code",
   "execution_count": null,
   "id": "d024f155",
   "metadata": {},
   "outputs": [],
   "source": [
    "Map_uvai = geemap.Map(center=[45.5,10], zoom = 7 )\n",
    "Map_uvai"
   ]
  },
  {
   "cell_type": "code",
   "execution_count": null,
   "id": "e8555188",
   "metadata": {},
   "outputs": [],
   "source": [
    "#Access to UV Aerosol index image collection, selecting the band name and giving a date range\n",
    "uvai = ee.ImageCollection('COPERNICUS/S5P/OFFL/L3_AER_AI')\\\n",
    "  .select('absorbing_aerosol_index')\\\n",
    "  .filterDate(start_date, end_date);\n",
    "\n",
    "#Image visualization properties\n",
    "uvai_viz = {\n",
    "    'min': -2,\n",
    "    'max': 0.1,\n",
    "    'opacity': 0.75,\n",
    "    'palette': ['black', 'blue', 'purple', 'cyan', 'green', 'yellow', 'red']\n",
    "};\n",
    "\n",
    "#Calculate the mean value for each pixel in the time range\n",
    "uvai = uvai.mean()\n",
    "Map_uvai.addLayer(uvai, uvai_viz, 'uvai');"
   ]
  },
  {
   "cell_type": "code",
   "execution_count": null,
   "id": "4439b00b",
   "metadata": {},
   "outputs": [],
   "source": [
    "#Clip over the ROI previously defined\n",
    "uvai_clip = uvai.clip(roi)\n",
    "Map_uvai.addLayer(uvai_clip, uvai_viz, 'uvai');"
   ]
  },
  {
   "cell_type": "code",
   "execution_count": null,
   "id": "5a72c762",
   "metadata": {},
   "outputs": [],
   "source": [
    "# Set output directory for UVAI\n",
    "out_dir = os.path.expanduser(cwd + '/temp')\n",
    "\n",
    "filename = os.path.join(out_dir, 'uvai_s5p.tif')"
   ]
  },
  {
   "cell_type": "code",
   "execution_count": null,
   "id": "07c24195",
   "metadata": {},
   "outputs": [],
   "source": [
    "geemap.ee_export_image(uvai_clip, filename=filename, scale=s5p_scale)"
   ]
  },
  {
   "cell_type": "markdown",
   "id": "7478b63d",
   "metadata": {},
   "source": [
    "- - -"
   ]
  },
  {
   "cell_type": "markdown",
   "id": "714766df",
   "metadata": {},
   "source": [
    "# [CO - Carbon Monoxide](https://developers.google.com/earth-engine/datasets/catalog/COPERNICUS_S5P_OFFL_L3_CO) "
   ]
  },
  {
   "cell_type": "code",
   "execution_count": null,
   "id": "812bc1e3",
   "metadata": {},
   "outputs": [],
   "source": [
    "Map_co = geemap.Map(center=[45.5,10], zoom = 7 )\n",
    "Map_co"
   ]
  },
  {
   "cell_type": "code",
   "execution_count": null,
   "id": "cf057654",
   "metadata": {},
   "outputs": [],
   "source": [
    "#Access to CO image collection, selecting the band name and giving a date range\n",
    "co = ee.ImageCollection('COPERNICUS/S5P/OFFL/L3_CO')\\\n",
    "  .select('CO_column_number_density')\\\n",
    "  .filterDate(start_date, end_date);\n",
    "\n",
    "#Image visualization properties\n",
    "co_viz = {\n",
    "    'min': 0,\n",
    "    'max': 0.05,\n",
    "    'opacity': 0.75,\n",
    "    'palette': ['black', 'blue', 'purple', 'cyan', 'green', 'yellow', 'red']\n",
    "};\n",
    "\n",
    "co = co.mean()\n",
    "Map_co.addLayer(co, co_viz, 'co');"
   ]
  },
  {
   "cell_type": "code",
   "execution_count": null,
   "id": "9857e8a0",
   "metadata": {},
   "outputs": [],
   "source": [
    "#Clip over the ROI previously defined\n",
    "co_clip = co.clip(roi)\n",
    "Map_co.addLayer(co_clip, co_viz, 'co');"
   ]
  },
  {
   "cell_type": "code",
   "execution_count": null,
   "id": "7d4be7e8",
   "metadata": {},
   "outputs": [],
   "source": [
    "# Set output directory for CO\n",
    "out_dir = os.path.expanduser(cwd + '/temp')\n",
    "\n",
    "filename = os.path.join(out_dir, 'co_s5p.tif')"
   ]
  },
  {
   "cell_type": "code",
   "execution_count": null,
   "id": "a4308932",
   "metadata": {},
   "outputs": [],
   "source": [
    "geemap.ee_export_image(co_clip, filename=filename, scale= s5p_scale)"
   ]
  },
  {
   "cell_type": "markdown",
   "id": "b985a024",
   "metadata": {},
   "source": [
    "- - -"
   ]
  },
  {
   "cell_type": "markdown",
   "id": "b52b12d2",
   "metadata": {},
   "source": [
    "# [CH2O - Formaldehyde](https://developers.google.com/earth-engine/datasets/catalog/COPERNICUS_S5P_OFFL_L3_HCHO) "
   ]
  },
  {
   "cell_type": "code",
   "execution_count": null,
   "id": "98a3a76e",
   "metadata": {},
   "outputs": [],
   "source": [
    "Map_form = geemap.Map(center=[45.5,10], zoom = 7 )\n",
    "Map_form"
   ]
  },
  {
   "cell_type": "code",
   "execution_count": null,
   "id": "53f21e85",
   "metadata": {},
   "outputs": [],
   "source": [
    "#Access to HCHO image collection, selecting the band name and giving a date range\n",
    "form = ee.ImageCollection('COPERNICUS/S5P/OFFL/L3_HCHO')\\\n",
    "  .select('tropospheric_HCHO_column_number_density')\\\n",
    "  .filterDate(start_date, end_date);\n",
    "\n",
    "#Image visualization properties\n",
    "form_viz = {\n",
    "    'min': 0,\n",
    "    'max': 0.0003,\n",
    "    'opacity': 0.75,\n",
    "    'palette': ['black', 'blue', 'purple', 'cyan', 'green', 'yellow', 'red']\n",
    "};\n",
    "\n",
    "#Calculate the mean value for each pixel in the time range\n",
    "form = form.mean()\n",
    "Map_form.addLayer(form, form_viz, 'form');"
   ]
  },
  {
   "cell_type": "code",
   "execution_count": null,
   "id": "504d9e4e",
   "metadata": {},
   "outputs": [],
   "source": [
    "#Clip over the ROI previously defined\n",
    "form_clip = form.clip(roi)\n",
    "Map_form.addLayer(form_clip, form_viz, 'form');"
   ]
  },
  {
   "cell_type": "code",
   "execution_count": null,
   "id": "f8316be8",
   "metadata": {},
   "outputs": [],
   "source": [
    "# Set output directory for Ozone\n",
    "out_dir = os.path.expanduser(cwd + '/temp')\n",
    "\n",
    "filename = os.path.join(out_dir, 'ch2o_s5p.tif')"
   ]
  },
  {
   "cell_type": "code",
   "execution_count": null,
   "id": "8e2799f4",
   "metadata": {},
   "outputs": [],
   "source": [
    "geemap.ee_export_image(form_clip, filename=filename, scale= s5p_scale)"
   ]
  },
  {
   "cell_type": "markdown",
   "id": "34cfe125",
   "metadata": {},
   "source": [
    "---"
   ]
  },
  {
   "cell_type": "markdown",
   "id": "868e968a",
   "metadata": {},
   "source": [
    "# [O3 - Ozone](https://developers.google.com/earth-engine/datasets/catalog/COPERNICUS_S5P_OFFL_L3_O3) "
   ]
  },
  {
   "cell_type": "code",
   "execution_count": null,
   "id": "ffecf7bb",
   "metadata": {},
   "outputs": [],
   "source": [
    "Map_o3 = geemap.Map(center=[45.5,10], zoom = 7 )\n",
    "Map_o3"
   ]
  },
  {
   "cell_type": "code",
   "execution_count": null,
   "id": "3c1ae6ac",
   "metadata": {},
   "outputs": [],
   "source": [
    "#Access to O3 image collection, selecting the band name and giving a date range\n",
    "o3 = ee.ImageCollection('COPERNICUS/S5P/OFFL/L3_O3')\\\n",
    "  .select('O3_column_number_density')\\\n",
    "  .filterDate(start_date, end_date);\n",
    "\n",
    "#Image visualization properties\n",
    "o3_viz = {\n",
    "    'min': 0,\n",
    "    'max': 0.17,\n",
    "    'opacity': 0.75,\n",
    "    'palette': ['black', 'blue', 'purple', 'cyan', 'green', 'yellow', 'red']\n",
    "};\n",
    "\n",
    "#Calculate the mean value for each pixel in the time range\n",
    "o3 = o3.mean()\n",
    "Map_o3.addLayer(o3, o3_viz, 'o3');"
   ]
  },
  {
   "cell_type": "code",
   "execution_count": null,
   "id": "afd9ad28",
   "metadata": {},
   "outputs": [],
   "source": [
    "#Clip over the ROI previously defined\n",
    "o3_clip = o3.clip(roi)\n",
    "Map_o3.addLayer(o3_clip, o3_viz, 'o3');"
   ]
  },
  {
   "cell_type": "code",
   "execution_count": null,
   "id": "cb725792",
   "metadata": {},
   "outputs": [],
   "source": [
    "# Set output directory for Ozone\n",
    "out_dir = os.path.expanduser(cwd + '/temp')\n",
    "\n",
    "filename = os.path.join(out_dir, 'o3_s5p.tif')"
   ]
  },
  {
   "cell_type": "code",
   "execution_count": null,
   "id": "25af9f82",
   "metadata": {},
   "outputs": [],
   "source": [
    "geemap.ee_export_image(o3_clip, filename=filename, scale= s5p_scale)"
   ]
  },
  {
   "cell_type": "markdown",
   "id": "617db008",
   "metadata": {},
   "source": [
    "- - -"
   ]
  },
  {
   "cell_type": "markdown",
   "id": "39feb482",
   "metadata": {},
   "source": [
    "# [CH4 - Methane](https://developers.google.com/earth-engine/datasets/catalog/COPERNICUS_S5P_OFFL_L3_CH4#bands) "
   ]
  },
  {
   "cell_type": "code",
   "execution_count": null,
   "id": "70b92849",
   "metadata": {},
   "outputs": [],
   "source": [
    "#Create a map\n",
    "Map_ch4 = geemap.Map(center=[45.5,10], zoom = 7 )\n",
    "Map_ch4"
   ]
  },
  {
   "cell_type": "code",
   "execution_count": null,
   "id": "d9d1dc1c",
   "metadata": {},
   "outputs": [],
   "source": [
    "#Access to CH4 image collection, selecting the band name and giving a date range\n",
    "ch4 = ee.ImageCollection('COPERNICUS/S5P/OFFL/L3_CH4')\\\n",
    "  .select('CH4_column_volume_mixing_ratio_dry_air')\\\n",
    "  .filterDate(start_date, end_date);\n",
    "\n",
    "#Image visualization properties\n",
    "ch4_viz = {\n",
    "    'min': 1750,\n",
    "    'max': 1900,\n",
    "    'opacity': 0.75,\n",
    "    'palette': ['black', 'blue', 'purple', 'cyan', 'green', 'yellow', 'red']\n",
    "};\n",
    "\n",
    "#Calculate the mean value for each pixel in the time range\n",
    "ch4 = ch4.mean()\n",
    "Map_ch4 .addLayer(ch4, ch4_viz, 'ch4');"
   ]
  },
  {
   "cell_type": "code",
   "execution_count": null,
   "id": "0328ae71",
   "metadata": {},
   "outputs": [],
   "source": [
    "#Clip over the ROI previously defined\n",
    "ch4_clip = ch4.clip(roi)\n",
    "Map_ch4 .addLayer(ch4_clip, ch4_viz, 'ch4');"
   ]
  },
  {
   "cell_type": "code",
   "execution_count": null,
   "id": "0e1526f9",
   "metadata": {},
   "outputs": [],
   "source": [
    "# Set output directory for Ozone\n",
    "out_dir = os.path.expanduser(cwd + '/temp')\n",
    "\n",
    "filename = os.path.join(out_dir, 'ch4_s5p.tif')"
   ]
  },
  {
   "cell_type": "code",
   "execution_count": null,
   "id": "484d2684",
   "metadata": {},
   "outputs": [],
   "source": [
    "geemap.ee_export_image(ch4_clip, filename=filename, scale= s5p_scale)"
   ]
  },
  {
   "cell_type": "markdown",
   "id": "9c65a105",
   "metadata": {},
   "source": [
    "----"
   ]
  },
  {
   "cell_type": "markdown",
   "id": "8501a882",
   "metadata": {},
   "source": [
    "# [AOD 550nm - Aerosol Optical Depth](https://developers.google.com/earth-engine/datasets/catalog/MODIS_006_MCD19A2_GRANULES) "
   ]
  },
  {
   "cell_type": "code",
   "execution_count": null,
   "id": "daec1ce9",
   "metadata": {},
   "outputs": [],
   "source": [
    "Map_aod55 = geemap.Map(center=[45.5,10], zoom = 7 )\n",
    "Map_aod55"
   ]
  },
  {
   "cell_type": "code",
   "execution_count": null,
   "id": "c0d79b66",
   "metadata": {},
   "outputs": [],
   "source": [
    "#Access to AOD 500 nm image collection, selecting the band name and giving a date range\n",
    "aod55 = ee.ImageCollection('MODIS/006/MCD19A2_GRANULES')\\\n",
    "  .select('Optical_Depth_055')\\\n",
    "  .filterDate(start_date, end_date);\n",
    "\n",
    "#Image visualization properties\n",
    "aod55_viz = {\n",
    "    'min': 0,\n",
    "    'max': 250,\n",
    "    'opacity': 0.75,\n",
    "    'palette': ['black', 'blue', 'purple', 'cyan', 'green', 'yellow', 'red']\n",
    "};\n",
    "\n",
    "#Calculate the mean value for each pixel in the time range\n",
    "aod55 = aod55.mean()\n",
    "Map_aod55.addLayer(aod55, aod55_viz, 'aod55');"
   ]
  },
  {
   "cell_type": "code",
   "execution_count": null,
   "id": "17288b42",
   "metadata": {},
   "outputs": [],
   "source": [
    "#Clip over the ROI previously defined\n",
    "aod55_clip = aod55.clip(roi)\n",
    "Map_aod55.addLayer(aod55_clip, aod55_viz, 'aod55');"
   ]
  },
  {
   "cell_type": "code",
   "execution_count": null,
   "id": "f862a8e2",
   "metadata": {},
   "outputs": [],
   "source": [
    "# Set output directory for AOD\n",
    "out_dir = os.path.expanduser(cwd + '/temp')\n",
    "\n",
    "filename = os.path.join(out_dir, 'aod_055.tif')"
   ]
  },
  {
   "cell_type": "code",
   "execution_count": null,
   "id": "50582976",
   "metadata": {},
   "outputs": [],
   "source": [
    "geemap.ee_export_image(aod55_clip, filename=filename, scale=1000)"
   ]
  },
  {
   "cell_type": "markdown",
   "id": "f1639c43",
   "metadata": {},
   "source": [
    "----"
   ]
  },
  {
   "cell_type": "markdown",
   "id": "bd3ca9fb",
   "metadata": {},
   "source": [
    "# [AOD 470nm - Aerosol Optical Depth](https://developers.google.com/earth-engine/datasets/catalog/MODIS_006_MCD19A2_GRANULES) "
   ]
  },
  {
   "cell_type": "code",
   "execution_count": null,
   "id": "324bb290",
   "metadata": {},
   "outputs": [],
   "source": [
    "Map_aod47 = geemap.Map(center=[45.5,10], zoom = 7 )\n",
    "Map_aod47"
   ]
  },
  {
   "cell_type": "code",
   "execution_count": null,
   "id": "43a95793",
   "metadata": {},
   "outputs": [],
   "source": [
    "#Access to AOD 470 nm image collection, selecting the band name and giving a date range\n",
    "aod47 = ee.ImageCollection('MODIS/006/MCD19A2_GRANULES')\\\n",
    "  .select('Optical_Depth_047')\\\n",
    "  .filterDate(start_date, end_date);\n",
    "\n",
    "#Image visualization properties\n",
    "aod47_viz = {\n",
    "    'min': 0,\n",
    "    'max': 250,\n",
    "    'opacity': 0.75,\n",
    "    'palette': ['black', 'blue', 'purple', 'cyan', 'green', 'yellow', 'red']\n",
    "};\n",
    "\n",
    "#Calculate the mean value for each pixel in the time range\n",
    "aod47 = aod47.mean()\n",
    "Map_aod47.addLayer(aod47, aod47_viz, 'aod47');"
   ]
  },
  {
   "cell_type": "code",
   "execution_count": null,
   "id": "8a1b3dcb",
   "metadata": {},
   "outputs": [],
   "source": [
    "#Clip over the ROI previously defined\n",
    "aod47_clip = aod47.clip(roi)\n",
    "Map_aod47.addLayer(aod47_clip, aod47_viz, 'aod47');"
   ]
  },
  {
   "cell_type": "code",
   "execution_count": null,
   "id": "04d088b4",
   "metadata": {},
   "outputs": [],
   "source": [
    "# Set output directory for AOD\n",
    "out_dir = os.path.expanduser(cwd + '/temp')\n",
    "\n",
    "filename = os.path.join(out_dir, 'aod_047.tif')"
   ]
  },
  {
   "cell_type": "code",
   "execution_count": null,
   "id": "8adceaf4",
   "metadata": {},
   "outputs": [],
   "source": [
    "geemap.ee_export_image(aod47_clip, filename=filename, scale=1000)"
   ]
  },
  {
   "cell_type": "markdown",
   "id": "7a0015ae",
   "metadata": {},
   "source": [
    "---"
   ]
  },
  {
   "cell_type": "markdown",
   "id": "dd48c590",
   "metadata": {},
   "source": [
    "# [NDVI - Normalized Difference Vegetation Index - 16-Day Global](https://developers.google.com/earth-engine/datasets/catalog/MODIS_006_MOD13Q1) "
   ]
  },
  {
   "cell_type": "markdown",
   "id": "b56d3d25-9fbe-4a51-9302-15e6be54e5a7",
   "metadata": {},
   "source": [
    "Since the NDVI data are available every 16 days, the next NDVI is selected if not available in the selected week: "
   ]
  },
  {
   "cell_type": "code",
   "execution_count": null,
   "id": "12af922f-b0f4-40b8-afcb-99ec15d6b250",
   "metadata": {},
   "outputs": [],
   "source": [
    "ndvi_date_end = str(datetime.datetime.strptime(str(year)+'-'+custom_week[1], \"%Y-%m-%d\").date()+datetime.timedelta(days=10))"
   ]
  },
  {
   "cell_type": "code",
   "execution_count": null,
   "id": "da59cfd8",
   "metadata": {},
   "outputs": [],
   "source": [
    "Map_ndvi = geemap.Map(center=[45.5,10], zoom = 7 )\n",
    "Map_ndvi"
   ]
  },
  {
   "cell_type": "code",
   "execution_count": null,
   "id": "5e17f7d1",
   "metadata": {},
   "outputs": [],
   "source": [
    "#Access to NDVI image collection, selecting the band name and giving a date range\n",
    "ndvi= ee.ImageCollection('MODIS/006/MOD13Q1')\\\n",
    "  .select('NDVI')\\\n",
    "  .filterDate(start_date, ndvi_date_end);\n",
    "\n",
    "#Image visualization properties\n",
    "ndvi_viz = {\n",
    "    'min': 0,\n",
    "    'max': 8000,\n",
    "    'opacity': 0.75,\n",
    "    'palette': [\n",
    "    'FFFFFF', 'CE7E45', 'DF923D', 'F1B555', 'FCD163', '99B718', '74A901',\n",
    "    '66A000', '529400', '3E8601', '207401', '056201', '004C00', '023B01',\n",
    "    '012E01', '011D01', '011301'\n",
    "  ]\n",
    "};\n",
    "\n",
    "#Calculate the mean value for each pixel in the time range\n",
    "ndvi = ndvi.mean()\n",
    "Map_ndvi.addLayer(ndvi, ndvi_viz, 'ndvi');"
   ]
  },
  {
   "cell_type": "code",
   "execution_count": null,
   "id": "c1d9ec43",
   "metadata": {},
   "outputs": [],
   "source": [
    "ndvi_clip = ndvi.clip(roi)\n",
    "Map_ndvi.addLayer(ndvi_clip, ndvi_viz, 'ndvi');"
   ]
  },
  {
   "cell_type": "code",
   "execution_count": null,
   "id": "4ef1f125",
   "metadata": {},
   "outputs": [],
   "source": [
    "# Set output directory for NDVI\n",
    "out_dir = os.path.expanduser(cwd + '/temp')\n",
    "\n",
    "\n",
    "filename = os.path.join(out_dir, 'ndvi.tif')"
   ]
  },
  {
   "cell_type": "code",
   "execution_count": null,
   "id": "bd83e59b",
   "metadata": {},
   "outputs": [],
   "source": [
    "geemap.ee_export_image(ndvi_clip, filename=filename, scale=250)"
   ]
  },
  {
   "cell_type": "markdown",
   "id": "c9e691cf",
   "metadata": {},
   "source": [
    "- - -"
   ]
  },
  {
   "cell_type": "markdown",
   "id": "3039d462",
   "metadata": {},
   "source": [
    "Additional layer for Soil type classification:"
   ]
  },
  {
   "cell_type": "markdown",
   "id": "1bd555f2",
   "metadata": {},
   "source": [
    "# [Soil type - Open Land Map USDA](https://developers.google.com/earth-engine/datasets/catalog/OpenLandMap_SOL_SOL_TEXTURE-CLASS_USDA-TT_M_v02#description)"
   ]
  },
  {
   "cell_type": "code",
   "execution_count": null,
   "id": "66216a79",
   "metadata": {},
   "outputs": [],
   "source": [
    "Map_soil = geemap.Map(center=[45.5,10], zoom = 7 )\n",
    "Map_soil"
   ]
  },
  {
   "cell_type": "code",
   "execution_count": null,
   "id": "78836db1",
   "metadata": {},
   "outputs": [],
   "source": [
    "#Access to USDA Open Land Map soil type image\n",
    "soil = ee.Image(\"OpenLandMap/SOL/SOL_TEXTURE-CLASS_USDA-TT_M/v02\")\\\n",
    "        .select('b0')\n",
    "\n",
    "soil_viz = {\n",
    "  'bands': ['b0'],\n",
    "  'min': 1.0,\n",
    "  'max': 12.0,\n",
    "  'palette': [\n",
    "    \"d5c36b\",\"b96947\",\"9d3706\",\"ae868f\",\"f86714\",\"46d143\",\n",
    "    \"368f20\",\"3e5a14\",\"ffd557\",\"fff72e\",\"ff5a9d\",\"ff005b\",\n",
    "  ]\n",
    "};"
   ]
  },
  {
   "cell_type": "code",
   "execution_count": null,
   "id": "543c46d0",
   "metadata": {},
   "outputs": [],
   "source": [
    "soil_clip = soil.clip(roi)"
   ]
  },
  {
   "cell_type": "code",
   "execution_count": null,
   "id": "d1d6d763",
   "metadata": {},
   "outputs": [],
   "source": [
    "Map_soil.addLayer(soil_clip, soil_viz, 'Soil Type');"
   ]
  },
  {
   "cell_type": "code",
   "execution_count": null,
   "id": "90093d5a",
   "metadata": {},
   "outputs": [],
   "source": [
    "out_dir = os.path.expanduser(cwd + '/terrain')\n",
    "filename = os.path.join(out_dir, 'soil_type.tif')\n",
    "geemap.ee_export_image(soil_clip, filename=filename, scale=60, crs='EPSG:32632')"
   ]
  }
 ],
 "metadata": {
  "kernelspec": {
   "display_name": "Python 3 (ipykernel)",
   "language": "python",
   "name": "python3"
  },
  "language_info": {
   "codemirror_mode": {
    "name": "ipython",
    "version": 3
   },
   "file_extension": ".py",
   "mimetype": "text/x-python",
   "name": "python",
   "nbconvert_exporter": "python",
   "pygments_lexer": "ipython3",
   "version": "3.9.12"
  }
 },
 "nbformat": 4,
 "nbformat_minor": 5
}
